{
 "cells": [
  {
   "cell_type": "markdown",
   "metadata": {},
   "source": [
    "# Factory and @classmethod\n",
    "\n",
    "Factory 는 function 이 return 될 class 를 선택할 수 있도록 하는 design pattern 이다.\n",
    "\n",
    "Factory pattern 을 사용하는 이유:\n",
    "* 필요한 class 를 program 이 선택적으로 creation 할 수 있다. \n",
    "* multiple class 의 code 중복 회피\n",
    "\n",
    "@classmethod 는 instance 생성 없이 class 이 method 를 호출할 수 있다."
   ]
  },
  {
   "cell_type": "code",
   "execution_count": 1,
   "metadata": {},
   "outputs": [],
   "source": [
    "BaseClass = type(\"BaseClass\", (object,), {})\n",
    "\n",
    "C1 = type(\"C1\", (BaseClass,), {\"x\": 1})\n",
    "C2 = type(\"C2\", (BaseClass,), {\"x\": 30})\n",
    "\n",
    "def MyFactory(myBool):\n",
    "    return C1() if myBool else C2()\n",
    "\n",
    "m = MyFactory(True)\n",
    "v  = MyFactory(False)"
   ]
  },
  {
   "cell_type": "code",
   "execution_count": 2,
   "metadata": {},
   "outputs": [
    {
     "name": "stdout",
     "output_type": "stream",
     "text": [
      "1 30\n"
     ]
    }
   ],
   "source": [
    "print(m.x, v.x)"
   ]
  },
  {
   "cell_type": "markdown",
   "metadata": {},
   "source": [
    "@classmethod"
   ]
  },
  {
   "cell_type": "code",
   "execution_count": 4,
   "metadata": {},
   "outputs": [],
   "source": [
    "class MyClass:\n",
    "    @classmethod\n",
    "    def printHam(self):\n",
    "        print(\"Ham\")"
   ]
  },
  {
   "cell_type": "code",
   "execution_count": 5,
   "metadata": {},
   "outputs": [
    {
     "name": "stdout",
     "output_type": "stream",
     "text": [
      "Ham\n"
     ]
    }
   ],
   "source": [
    "MyClass.printHam()"
   ]
  },
  {
   "cell_type": "markdown",
   "metadata": {},
   "source": [
    "@classmethod 를 Factory function 과 함께 사용하면 Factory function 내의 if 문이 복잡해지는 것을 방지할 수 있다."
   ]
  },
  {
   "cell_type": "code",
   "execution_count": 11,
   "metadata": {},
   "outputs": [],
   "source": [
    "BaseClass = type(\"BaseClass\", (object,), {})\n",
    "\n",
    "@classmethod\n",
    "def Check1(self, myStr):\n",
    "    return myStr == \"ham\"        # myStr 이 ham 이면 True 아니면 False return\n",
    "\n",
    "@classmethod\n",
    "def Check2(self, myStr):\n",
    "    return myStr == \"sandwitch\"       \n",
    "\n",
    "C1 = type(\"C1\", (BaseClass,), {\"x\": 1, \"Check\": Check1})\n",
    "C2 = type(\"C2\", (BaseClass,), {\"x\": 30, \"Check\": Check2})"
   ]
  },
  {
   "cell_type": "code",
   "execution_count": 12,
   "metadata": {},
   "outputs": [
    {
     "data": {
      "text/plain": [
       "[__main__.C1, __main__.C2]"
      ]
     },
     "execution_count": 12,
     "metadata": {},
     "output_type": "execute_result"
    }
   ],
   "source": [
    "BaseClass.__subclasses__()"
   ]
  },
  {
   "cell_type": "code",
   "execution_count": 15,
   "metadata": {},
   "outputs": [],
   "source": [
    "def MyFactory(myStr):\n",
    "    for cls in BaseClass.__subclasses__():\n",
    "        if cls.Check(myStr):\n",
    "            return cls()\n",
    "\n",
    "m = MyFactory(\"ham\")\n",
    "v  = MyFactory(\"sandwitch\")"
   ]
  },
  {
   "cell_type": "code",
   "execution_count": 16,
   "metadata": {},
   "outputs": [
    {
     "name": "stdout",
     "output_type": "stream",
     "text": [
      "1 30\n"
     ]
    }
   ],
   "source": [
    "print(m.x, v.x)"
   ]
  },
  {
   "cell_type": "code",
   "execution_count": null,
   "metadata": {},
   "outputs": [],
   "source": []
  }
 ],
 "metadata": {
  "kernelspec": {
   "display_name": "Python 3",
   "language": "python",
   "name": "python3"
  },
  "language_info": {
   "codemirror_mode": {
    "name": "ipython",
    "version": 3
   },
   "file_extension": ".py",
   "mimetype": "text/x-python",
   "name": "python",
   "nbconvert_exporter": "python",
   "pygments_lexer": "ipython3",
   "version": "3.6.6"
  }
 },
 "nbformat": 4,
 "nbformat_minor": 2
}
