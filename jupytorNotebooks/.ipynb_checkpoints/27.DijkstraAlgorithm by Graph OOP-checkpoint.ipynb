{
 "cells": [
  {
   "cell_type": "markdown",
   "metadata": {},
   "source": [
    "# 27. 다익스트라 알고리즘 (Dijkstra Algorithm)\n",
    "\n",
    "Python 의 Class 를 이용한 Graph 구조를 작성하고 다익스트라 알고리즘을 이용한 최단 경로 탐색을 한다.\n",
    "\n",
    "1. 모든 꼭짓점을 미방문 상태로 표시한다. 미방문 집합이라는 모든 미방문 꼭짓점의 집합을 만든다.\n",
    "2. 모든 꼭짓점에 시험적 거리 값을 부여한다: 초기점을 0으로, 다른 모든 꼭짓점을 무한대로 설정한다. 초기점을 현재 위치로 설정한다.\n",
    "3. 현재 꼭짓점에서 미방문 인접 꼭짓점을 찾아 그 시험적 거리를 현재 꼭짓점에서 계산한다. 새로 계산한 시험적 거리를 현재 부여된 값과 비교해서 더 작은 값을 넣는다. 예를 들어, 현재 꼭짓점 A의 거리가 6이라고 표시되었고, 인접 꼭짓점 B으로 연결되는 변의 길이가 2라고 한다면, A를 통한 B의 거리는 6 + 2 = 8이 될 것이다. B가 이전에 거리가 8보다 크다고 표시되었었다면 8로 바꾸고, 그렇지 않다면 그대로 놔둔다.\n",
    "4. 만약 현재 노드에 인접한 모든 미방문 꼭짓점을 계산했다면, 현재 꼭짓점을 방문한 것으로 표시하고 미방문 집합에서 제거한다. 방문한 꼭짓점은 이후에는 다시 검사하지 않는다.\n",
    "5. 도착점이 방문한 상태로 표시되거나 (특정 두 꼭짓점 사이의 경로를 계획하고 있을 때) 미방문 집합에 있는 꼭짓점들의 시험적 거리 중 최솟값이 무한대이면(완전 순회를 계획중일 때. 이 현상은 초기점과 나머지 미방문 집합 간에 연결이 없을 때 일어난다), 멈춘다. 알고리즘을 종료한다.\n",
    "6. 아니면 시험적 거리가 가장 작은 다음 미방문 꼭짓점을 새로운 \"현재 위치\"로 선택하고 3단계로 되돌아간다.\n",
    "<img src=\"graph_diagram.png\" width=\"300\">\n",
    "\n",
    "- 알고리즘 구현에 사용된 Python 문법\n",
    "    1. Class 정의\n",
    "    2. Class 상속\n",
    "    3. method overriding\n",
    "    4. while, for loop"
   ]
  },
  {
   "cell_type": "code",
   "execution_count": 2,
   "metadata": {},
   "outputs": [],
   "source": [
    "class Graph:\n",
    "    def __init__(self):\n",
    "        self.adjacentList = {}\n",
    "    \n",
    "    def __iter__(self):\n",
    "        return iter(self.adjacentList.items())\n",
    "        \n",
    "    def add_vertex(self, vertex):\n",
    "        if not vertex in self.adjacentList:\n",
    "            self.adjacentList[vertex] = []\n",
    "\n",
    "    def add_edge(self, v1, v2, weight):\n",
    "        self.adjacentList[v1].append(v2)\n",
    "        self.adjacentList[v2].append(v1)\n",
    "        \n",
    "class WeightedGraph(Graph):\n",
    "    \n",
    "    def add_edge(self, v1, v2, weight):\n",
    "        self.adjacentList[v1].append({'node': v2, 'weight': weight})\n",
    "        self.adjacentList[v2].append({'node': v1, 'weight': weight})"
   ]
  },
  {
   "cell_type": "code",
   "execution_count": 3,
   "metadata": {},
   "outputs": [
    {
     "name": "stdout",
     "output_type": "stream",
     "text": [
      "('a', [{'node': 'b', 'weight': 7}, {'node': 'c', 'weight': 9}, {'node': 'f', 'weight': 14}, {'node': 'b', 'weight': 7}, {'node': 'c', 'weight': 9}, {'node': 'f', 'weight': 14}])\n",
      "('b', [{'node': 'a', 'weight': 7}, {'node': 'a', 'weight': 7}, {'node': 'c', 'weight': 10}, {'node': 'd', 'weight': 15}, {'node': 'c', 'weight': 10}, {'node': 'd', 'weight': 15}])\n",
      "('c', [{'node': 'a', 'weight': 9}, {'node': 'b', 'weight': 10}, {'node': 'a', 'weight': 9}, {'node': 'b', 'weight': 10}, {'node': 'd', 'weight': 11}, {'node': 'f', 'weight': 2}, {'node': 'd', 'weight': 11}, {'node': 'f', 'weight': 2}])\n",
      "('d', [{'node': 'b', 'weight': 15}, {'node': 'c', 'weight': 11}, {'node': 'b', 'weight': 15}, {'node': 'c', 'weight': 11}, {'node': 'e', 'weight': 6}, {'node': 'e', 'weight': 6}])\n",
      "('e', [{'node': 'd', 'weight': 6}, {'node': 'd', 'weight': 6}, {'node': 'f', 'weight': 9}, {'node': 'f', 'weight': 9}])\n",
      "('f', [{'node': 'a', 'weight': 14}, {'node': 'c', 'weight': 2}, {'node': 'e', 'weight': 9}, {'node': 'a', 'weight': 14}, {'node': 'c', 'weight': 2}, {'node': 'e', 'weight': 9}])\n"
     ]
    }
   ],
   "source": [
    "g = WeightedGraph()\n",
    "\n",
    "g.add_vertex('a')\n",
    "g.add_vertex('b')\n",
    "g.add_vertex('c')\n",
    "g.add_vertex('d')\n",
    "g.add_vertex('e')\n",
    "g.add_vertex('f')\n",
    "\n",
    "g.add_edge('a', 'b', 7)\n",
    "g.add_edge('a', 'c', 9)\n",
    "g.add_edge('a', 'f', 14)\n",
    "g.add_edge('b', 'a', 7)\n",
    "g.add_edge('b', 'c', 10)\n",
    "g.add_edge('b', 'd', 15)\n",
    "g.add_edge('c', 'a', 9)\n",
    "g.add_edge('c', 'b', 10)\n",
    "g.add_edge('c', 'd', 11)\n",
    "g.add_edge('c', 'f', 2)\n",
    "g.add_edge('d', 'b', 15)\n",
    "g.add_edge('d', 'c', 11)\n",
    "g.add_edge('d', 'e', 6)\n",
    "g.add_edge('e', 'd', 6)\n",
    "g.add_edge('e', 'f', 9)\n",
    "g.add_edge('f', 'a', 14)\n",
    "g.add_edge('f', 'c', 2)\n",
    "g.add_edge('f', 'e', 9)\n",
    "\n",
    "for node in g:\n",
    "    print(node)"
   ]
  },
  {
   "cell_type": "code",
   "execution_count": 4,
   "metadata": {},
   "outputs": [
    {
     "data": {
      "text/plain": [
       "({'a': 0, 'b': 7, 'c': 9, 'd': 20, 'e': 20, 'f': 11},\n",
       " {'a': None, 'b': 'a', 'c': 'a', 'd': 'c', 'e': 'f', 'f': 'c'},\n",
       " ['a', 'c', 'f', 'e'])"
      ]
     },
     "execution_count": 4,
     "metadata": {},
     "output_type": "execute_result"
    }
   ],
   "source": [
    "def Dijkstra(Graph, start, target):\n",
    "    Q = []                 # 미방문 vertex list\n",
    "    dist = {}              # 시작점으로부터의 거리\n",
    "    prev = {}            # 최단거리 이전 node\n",
    "    \n",
    "    for v in Graph.adjacentList.keys(): # 1. 모든 vertex 미방문상태 표시, 초기 거리값 무한대 설정\n",
    "        dist[v] = float(\"inf\")      \n",
    "        prev[v] = None\n",
    "        Q.append(v)\n",
    "        \n",
    "    dist[start] = 0         # 시작점은 거리 0\n",
    "    \n",
    "    while len(Q) > 0:            # 미방문 node 가 없을 때까지 loop \n",
    "        min = float(\"inf\")\n",
    "        for vertex in Q:\n",
    "            if min > dist[vertex]:   # 두 값이 모두 inf 면 False \n",
    "                min = dist[vertex]\n",
    "                u = vertex             # 다음번 방문 node 결정 (시작점으로부터의 거리가 가장 짧은 node 선정)\n",
    "  \n",
    "        Q.pop(Q.index(u))          # 비방문 node list 에서 제거\n",
    "        \n",
    "        for v in Graph.adjacentList[u]:  # 방문한 node 의 모든 이웃 node 의 시작점으로부터 거리 계산\n",
    "            alt  = dist[u] + v['weight']\n",
    "            if alt < dist[v['node']]:          # 계산한 거리가 기존에 알고 있던 거리보다 짧으면 새로운 거리로 갱신\n",
    "                dist[v['node']] = alt\n",
    "                prev[v['node']] = u           # 최단거리 이전 node 갱신\n",
    "                \n",
    "    S = []                                  # 최단거리 경로 출력을 위한 list\n",
    "    t = target                            \n",
    "    while prev[t] is not None:     # 이전 node 가 있으면 list 의 첫번째에 삽입\n",
    "        S.insert(0, t)\n",
    "        t = prev[t]\n",
    "        \n",
    "    S.insert(0, t)                        # 마지막 node (시작점 node) 첫번째 삽입\n",
    "    \n",
    "    return (dist, prev, S)             # 각 node 의 시작점으로부터의 거리, 최단경로 이전 node, 최단 경로\n",
    "        \n",
    "Dijkstra(g, 'a', 'e')"
   ]
  },
  {
   "cell_type": "code",
   "execution_count": null,
   "metadata": {},
   "outputs": [],
   "source": []
  }
 ],
 "metadata": {
  "kernelspec": {
   "display_name": "Python 3",
   "language": "python",
   "name": "python3"
  },
  "language_info": {
   "codemirror_mode": {
    "name": "ipython",
    "version": 3
   },
   "file_extension": ".py",
   "mimetype": "text/x-python",
   "name": "python",
   "nbconvert_exporter": "python",
   "pygments_lexer": "ipython3",
   "version": "3.7.3"
  }
 },
 "nbformat": 4,
 "nbformat_minor": 2
}
