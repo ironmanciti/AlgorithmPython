{
 "cells": [
  {
   "cell_type": "markdown",
   "metadata": {},
   "source": [
    "# 30. Multi-threading and Multi-processing\n",
    "\n",
    "## Multi-threading vs. Multi-processing\n",
    "\n",
    "<div style=\"display:flex;\">\n",
    "<div><img src=\"multithread.png\" width=\"200\" /></div>\n",
    "<div>&nbsp;&nbsp;&nbsp;&nbsp;&nbsp;&nbsp;&nbsp;&nbsp;&nbsp;&nbsp;&nbsp;</div>\n",
    "<div><img src=\"multiprocessing.jpg\" width=\"500\" /></div>\n",
    "</div>\n",
    "\n",
    "## When to use what ?\n",
    "- program이 network bound 인 경우 --> multi-threading 사용   \n",
    "    ex) web scraping 중 cpu 가 idle 상태  \n",
    "    \n",
    "    \n",
    "- program이 cpu bound 인 경우 --> multi-processing 사용"
   ]
  },
  {
   "cell_type": "code",
   "execution_count": 1,
   "metadata": {},
   "outputs": [],
   "source": [
    "import time\n",
    "import threading\n",
    "\n",
    "def calc_square(num_list):\n",
    "    print('제곱 계산')\n",
    "    for n in num_list:\n",
    "        time.sleep(0.2)\n",
    "        print(f'sqaure: {n*n}')\n",
    "        \n",
    "def calc_cube(num_list):\n",
    "    print('세제곱 계산')\n",
    "    for n in num_list:\n",
    "        time.sleep(0.2)\n",
    "        print(f'cube: {n*n*n}')\n",
    "        \n",
    "arr = [5, 10, 15, 20]"
   ]
  },
  {
   "cell_type": "markdown",
   "metadata": {},
   "source": [
    "### serial processing"
   ]
  },
  {
   "cell_type": "code",
   "execution_count": 2,
   "metadata": {},
   "outputs": [
    {
     "name": "stdout",
     "output_type": "stream",
     "text": [
      "제곱 계산\n",
      "sqaure: 25\n",
      "sqaure: 100\n",
      "sqaure: 225\n",
      "sqaure: 400\n",
      "세제곱 계산\n",
      "cube: 125\n",
      "cube: 1000\n",
      "cube: 3375\n",
      "cube: 8000\n",
      "\n",
      "작업 시간  1.603029727935791\n"
     ]
    }
   ],
   "source": [
    "s = time.time()\n",
    "\n",
    "calc_square(arr)\n",
    "calc_cube(arr)\n",
    "\n",
    "print()\n",
    "print(\"작업 시간 \", time.time() - s)"
   ]
  },
  {
   "cell_type": "markdown",
   "metadata": {},
   "source": [
    "### Multi-threading\n",
    "\n",
    "- target : callable object. \n",
    "- args : target에 전달할 parameters  \n",
    "- join() : thread가 종료될 때까지 작업이 block"
   ]
  },
  {
   "cell_type": "code",
   "execution_count": 3,
   "metadata": {},
   "outputs": [
    {
     "name": "stdout",
     "output_type": "stream",
     "text": [
      "제곱 계산\n",
      "세제곱 계산\n",
      "sqaure: 25\n",
      "cube: 125\n",
      "sqaure: 100\n",
      "cube: 1000\n",
      "sqaure: 225\n",
      "cube: 3375\n",
      "sqaure: 400\n",
      "cube: 8000\n",
      "\n",
      "작업 시간  0.8120310306549072\n"
     ]
    }
   ],
   "source": [
    "t1 = threading.Thread(target=calc_square, args=(arr,))\n",
    "t2 = threading.Thread(target=calc_cube, args=(arr,))\n",
    "\n",
    "s = time.time()\n",
    "\n",
    "t1.start()\n",
    "t2.start()\n",
    "\n",
    "t1.join()\n",
    "t2.join()\n",
    "\n",
    "print()\n",
    "print(\"작업 시간 \", time.time() - s)"
   ]
  },
  {
   "cell_type": "markdown",
   "metadata": {},
   "source": [
    "### Multi-processing"
   ]
  },
  {
   "cell_type": "code",
   "execution_count": 4,
   "metadata": {},
   "outputs": [
    {
     "data": {
      "text/plain": [
       "8"
      ]
     },
     "execution_count": 4,
     "metadata": {},
     "output_type": "execute_result"
    }
   ],
   "source": [
    "import multiprocessing\n",
    "\n",
    "multiprocessing.cpu_count()"
   ]
  },
  {
   "cell_type": "code",
   "execution_count": 5,
   "metadata": {},
   "outputs": [
    {
     "name": "stdout",
     "output_type": "stream",
     "text": [
      "\n",
      "작업 시간  0.18398427963256836\n"
     ]
    }
   ],
   "source": [
    "p1 = multiprocessing.Process(target=calc_square, args=(arr,))\n",
    "p2 = multiprocessing.Process(target=calc_cube, args=(arr,))\n",
    "\n",
    "s = time.time()\n",
    "\n",
    "p1.start()\n",
    "p2.start()\n",
    "\n",
    "p1.join()\n",
    "p2.join()\n",
    "\n",
    "print()\n",
    "print(\"작업 시간 \", time.time() - s)"
   ]
  }
 ],
 "metadata": {
  "kernelspec": {
   "display_name": "Python 3",
   "language": "python",
   "name": "python3"
  },
  "language_info": {
   "codemirror_mode": {
    "name": "ipython",
    "version": 3
   },
   "file_extension": ".py",
   "mimetype": "text/x-python",
   "name": "python",
   "nbconvert_exporter": "python",
   "pygments_lexer": "ipython3",
   "version": "3.7.3"
  }
 },
 "nbformat": 4,
 "nbformat_minor": 4
}
