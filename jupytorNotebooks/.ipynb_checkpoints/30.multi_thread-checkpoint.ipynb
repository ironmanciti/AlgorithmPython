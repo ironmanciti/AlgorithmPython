{
 "cells": [
  {
   "cell_type": "markdown",
   "metadata": {},
   "source": [
    "# 30. Multi-threading and Multi-processing\n",
    "\n",
    "## Multi-threading vs. Multi-processing\n",
    "\n",
    "<div style=\"display:flex;\">\n",
    "<div><img src=\"multithread.png\" width=\"200\" /></div>\n",
    "<div>&nbsp;&nbsp;&nbsp;&nbsp;&nbsp;&nbsp;&nbsp;&nbsp;&nbsp;&nbsp;&nbsp;</div>\n",
    "<div><img src=\"multiprocessing.jpg\" width=\"500\" /></div>\n",
    "</div>\n"
   ]
  },
  {
   "cell_type": "code",
   "execution_count": 1,
   "metadata": {},
   "outputs": [],
   "source": [
    "import time\n",
    "import threading\n",
    "\n",
    "def calc_square(num_list):\n",
    "    print('제곱 계산')\n",
    "    for n in num_list:\n",
    "        time.sleep(0.2)\n",
    "        print('sqaure: ', n*n)\n",
    "        \n",
    "def calc_cube(num_list):\n",
    "    print('세제곱 계산')\n",
    "    for n in num_list:\n",
    "        time.sleep(0.2)\n",
    "        print('cube: ', n*n*n)\n",
    "        \n",
    "arr = [5, 10, 15, 20]"
   ]
  },
  {
   "cell_type": "markdown",
   "metadata": {},
   "source": [
    "### serial processing"
   ]
  },
  {
   "cell_type": "code",
   "execution_count": 2,
   "metadata": {},
   "outputs": [
    {
     "name": "stdout",
     "output_type": "stream",
     "text": [
      "제곱 계산\n",
      "sqaure:  25\n",
      "sqaure:  100\n",
      "sqaure:  225\n",
      "sqaure:  400\n",
      "세제곱 계산\n",
      "cube:  125\n",
      "cube:  1000\n",
      "cube:  3375\n",
      "cube:  8000\n",
      "\n",
      "작업 시간  1.6312839984893799\n"
     ]
    }
   ],
   "source": [
    "s = time.time()\n",
    "\n",
    "calc_square(arr)\n",
    "calc_cube(arr)\n",
    "\n",
    "print()\n",
    "print(\"작업 시간 \", time.time() - s)"
   ]
  },
  {
   "cell_type": "markdown",
   "metadata": {},
   "source": [
    "### Multi-threading"
   ]
  },
  {
   "cell_type": "code",
   "execution_count": 3,
   "metadata": {},
   "outputs": [
    {
     "name": "stdout",
     "output_type": "stream",
     "text": [
      "제곱 계산\n",
      "세제곱 계산\n",
      "sqaure: cube:  125\n",
      " 25\n",
      "cube: sqaure:  1000\n",
      " 100\n",
      "cube: sqaure:  3375\n",
      " 225\n",
      "cube: sqaure:  8000\n",
      " 400\n",
      "\n",
      "작업 시간  0.820077657699585\n"
     ]
    }
   ],
   "source": [
    "t1 = threading.Thread(target=calc_square, args=(arr,))\n",
    "t2 = threading.Thread(target=calc_cube, args=(arr,))\n",
    "\n",
    "s = time.time()\n",
    "\n",
    "t1.start()\n",
    "t2.start()\n",
    "\n",
    "t1.join()\n",
    "t2.join()\n",
    "\n",
    "print()\n",
    "print(\"작업 시간 \", time.time() - s)"
   ]
  },
  {
   "cell_type": "markdown",
   "metadata": {},
   "source": [
    "### Multi-processing"
   ]
  },
  {
   "cell_type": "code",
   "execution_count": 4,
   "metadata": {},
   "outputs": [
    {
     "name": "stdout",
     "output_type": "stream",
     "text": [
      "제곱 계산\n",
      "세제곱 계산\n",
      "sqaure:  25\n",
      "cube:  125\n",
      "sqaure:  cube:  100\n",
      "1000\n",
      "sqaure: cube:   2253375\n",
      "\n",
      "sqaure: cube:   4008000\n",
      "\n",
      "\n",
      "작업 시간  0.8483150005340576\n"
     ]
    }
   ],
   "source": [
    "import multiprocessing\n",
    "\n",
    "p1 = multiprocessing.Process(target=calc_square, args=(arr,))\n",
    "p2 = multiprocessing.Process(target=calc_cube, args=(arr,))\n",
    "\n",
    "s = time.time()\n",
    "\n",
    "p1.start()\n",
    "p2.start()\n",
    "\n",
    "p1.join()\n",
    "p2.join()\n",
    "\n",
    "print()\n",
    "print(\"작업 시간 \", time.time() - s)"
   ]
  },
  {
   "cell_type": "markdown",
   "metadata": {},
   "source": [
    "## Process 의 주소 공간 (Address Space)\n",
    "\n",
    "<img src=\"addressSpace.png\" width=\"400\">  \n",
    "\n",
    "- process 별로 주소 공간이 생성되므로 global variable 영역도 별도 생성된다.  \n",
    "\n",
    "- 따라서, 전역 변수 (global variable)를 사용하여 프로세스 간 상태 공유 시 문제 발생"
   ]
  },
  {
   "cell_type": "code",
   "execution_count": 5,
   "metadata": {},
   "outputs": [
    {
     "name": "stdout",
     "output_type": "stream",
     "text": [
      "Process 내부 결과 : [4, 9, 16, 25, 36]\n",
      "Process 외부 결과 : []\n"
     ]
    }
   ],
   "source": [
    "global_result = []\n",
    "\n",
    "def calc_square(numbers):\n",
    "    \n",
    "    for n in numbers:\n",
    "        global_result.append(n * n)\n",
    "        \n",
    "    print(\"Process 내부 결과 :\", global_result)\n",
    "        \n",
    "arr = [2, 3, 4, 5, 6]\n",
    "p1 = multiprocessing.Process(target=calc_square, args=(arr,))\n",
    "p1.start()\n",
    "p1.join()\n",
    "\n",
    "print(\"Process 외부 결과 :\",global_result)"
   ]
  },
  {
   "cell_type": "markdown",
   "metadata": {},
   "source": [
    "## Shared Memory 를 이용한 프로세스 간 상태 공유\n",
    "\n",
    "<img src=\"sharedMemory.png\" width=\"300\">  \n",
    "\n",
    "\n",
    "### Value 또는 Array를 이용한 공유 메모리 맵 사용  \n",
    "- multiprocessing.Array, multiprocessing.Value  \n",
    "    - 'd': double precision float\n",
    "    - 'i': integer"
   ]
  },
  {
   "cell_type": "code",
   "execution_count": 6,
   "metadata": {},
   "outputs": [
    {
     "name": "stdout",
     "output_type": "stream",
     "text": [
      "Process 내부 결과 : [4, 9, 16, 25, 36]\n",
      "Process 외부 결과 : [4, 9, 16, 25, 36]\n"
     ]
    }
   ],
   "source": [
    "def calc_square(numbers, result, v):\n",
    "    \n",
    "    v.value = 3.45\n",
    "    \n",
    "    for idx, n in enumerate(numbers):\n",
    "        result[idx] = n * n\n",
    "        \n",
    "    print(\"Process 내부 결과 :\", result[:])\n",
    "        \n",
    "arr = [2, 3, 4, 5, 6]\n",
    "\n",
    "result = multiprocessing.Array('i', len(arr))\n",
    "v = multiprocessing.Value('d', 0.0)\n",
    "\n",
    "p1 = multiprocessing.Process(target=calc_square, args=(arr, result, v))\n",
    "p1.start()\n",
    "p1.join()\n",
    "\n",
    "print(\"Process 외부 결과 :\", result[:])"
   ]
  },
  {
   "cell_type": "markdown",
   "metadata": {},
   "source": [
    "### Queue를 이용한 Process 간의 Data 공유\n",
    "\n",
    "<img src=\"multiprocessing-q.png\" width=\"300\">"
   ]
  },
  {
   "cell_type": "code",
   "execution_count": 7,
   "metadata": {},
   "outputs": [
    {
     "name": "stdout",
     "output_type": "stream",
     "text": [
      "4\n",
      "9\n",
      "16\n",
      "25\n",
      "36\n"
     ]
    }
   ],
   "source": [
    "def calc_square(numbers, q):\n",
    "    for idx, n in enumerate(numbers):\n",
    "        q.put(n * n)\n",
    "\n",
    "arr = [2, 3, 4, 5, 6]\n",
    "q = multiprocessing.Queue()\n",
    "p = multiprocessing.Process(target=calc_square, args=(arr, q))\n",
    "\n",
    "p.start()\n",
    "p.join()\n",
    "\n",
    "while not q.empty():\n",
    "    print(q.get())"
   ]
  },
  {
   "cell_type": "markdown",
   "metadata": {},
   "source": [
    "## Multiprocessing Pool (Map Reduce) \n",
    "\n",
    "<img src='mapreduce1.png'>\n",
    "<img src='mapreduce2.png'>"
   ]
  },
  {
   "cell_type": "code",
   "execution_count": 10,
   "metadata": {},
   "outputs": [],
   "source": [
    "import time\n",
    "from multiprocessing import Pool\n",
    "\n",
    "def f(n):\n",
    "    time.sleep(0.2)\n",
    "    return n*n\n",
    "\n",
    "array = [1, 2, 3, 4, 5, 6, 7, 8, 9, 10]"
   ]
  },
  {
   "cell_type": "code",
   "execution_count": 11,
   "metadata": {},
   "outputs": [
    {
     "name": "stdout",
     "output_type": "stream",
     "text": [
      "[1, 4, 9, 16, 25, 36, 49, 64, 81, 100]\n",
      "2.0204341411590576\n"
     ]
    }
   ],
   "source": [
    "# without pool\n",
    "\n",
    "s = time.time()\n",
    "result = map(f, array)\n",
    "\n",
    "print(list(result))\n",
    "print(time.time() - s)"
   ]
  },
  {
   "cell_type": "code",
   "execution_count": 12,
   "metadata": {},
   "outputs": [
    {
     "name": "stdout",
     "output_type": "stream",
     "text": [
      "[1, 4, 9, 16, 25, 36, 49, 64, 81, 100]\n",
      "0.3609657287597656\n"
     ]
    }
   ],
   "source": [
    "# with pool\n",
    "\n",
    "s = time.time()\n",
    "p = Pool()\n",
    "result = p.map(f, array)\n",
    "p.close()\n",
    "p.join()\n",
    "\n",
    "print(result)\n",
    "print(time.time() - s)"
   ]
  },
  {
   "cell_type": "markdown",
   "metadata": {},
   "source": [
    "## Lock을 이용한 동기성(Synchronization) 유지\n",
    "\n",
    "<img src=\"lock.png\" width=\"500\">\n",
    "\n",
    "- 여러개의 thread가 share 하는 resource를 lock 하지 않으면 결과를 예측할 수 없다"
   ]
  },
  {
   "cell_type": "code",
   "execution_count": 13,
   "metadata": {},
   "outputs": [
    {
     "name": "stdout",
     "output_type": "stream",
     "text": [
      "-397680\n"
     ]
    }
   ],
   "source": [
    "import threading\n",
    "\n",
    "n = 1000000\n",
    "\n",
    "balance = 0\n",
    "\n",
    "def increase(n):\n",
    "    global balance\n",
    "    for i in range(n):\n",
    "        balance += 1\n",
    "\n",
    "def decrease(n):\n",
    "    global balance\n",
    "    for i in range(n):\n",
    "        balance -= 1\n",
    "        \n",
    "def main_task():\n",
    "    t1 = threading.Thread(target=increase, args=(n,))\n",
    "    t2 = threading.Thread(target=decrease, args=(n,))\n",
    "    \n",
    "    t1.start()\n",
    "    t2.start()\n",
    "    t1.join()\n",
    "    t2.join()\n",
    "    \n",
    "main_task()\n",
    "print(balance)"
   ]
  },
  {
   "cell_type": "markdown",
   "metadata": {},
   "source": [
    "- threading.Lock() 을 이용하여 문제 해결  \n",
    "```\n",
    "    - lock.acquire() \n",
    "    - lock.release()\n",
    "```"
   ]
  },
  {
   "cell_type": "code",
   "execution_count": 14,
   "metadata": {},
   "outputs": [
    {
     "name": "stdout",
     "output_type": "stream",
     "text": [
      "0\n"
     ]
    }
   ],
   "source": [
    "n = 1000000\n",
    "\n",
    "balance = 0\n",
    "\n",
    "def increase(n, lock):\n",
    "    global balance\n",
    "    for i in range(n):\n",
    "        lock.acquire()     \n",
    "        balance += 1    \n",
    "        lock.release()\n",
    "\n",
    "def decrease(n, lock):\n",
    "    global balance\n",
    "    for i in range(n):\n",
    "        lock.acquire()    \n",
    "        balance -= 1   \n",
    "        lock.release()\n",
    "        \n",
    "def main_task():\n",
    "    lock = threading.Lock()\n",
    "    \n",
    "    t1 = threading.Thread(target=increase, args=(n, lock))\n",
    "    t2 = threading.Thread(target=decrease, args=(n, lock))\n",
    "    \n",
    "    t1.start()\n",
    "    t2.start()\n",
    "    t1.join()\n",
    "    t2.join()\n",
    "    \n",
    "main_task()\n",
    "print(balance)"
   ]
  },
  {
   "cell_type": "markdown",
   "metadata": {},
   "source": [
    "### 참고 : multiprocessing 에서는 lambda 사용 불가 "
   ]
  },
  {
   "cell_type": "code",
   "execution_count": 16,
   "metadata": {},
   "outputs": [
    {
     "name": "stdout",
     "output_type": "stream",
     "text": [
      "[1, 4, 9, 16, 25]\n"
     ]
    }
   ],
   "source": [
    "import multiprocessing\n",
    "\n",
    "def calc_square(n):\n",
    "    return n * n\n",
    "\n",
    "arr = [1, 2, 3, 4, 5]\n",
    "\n",
    "with multiprocessing.Pool() as p:\n",
    "    result = p.map(calc_square, arr)\n",
    "    \n",
    "print(result)"
   ]
  },
  {
   "cell_type": "code",
   "execution_count": 17,
   "metadata": {},
   "outputs": [
    {
     "name": "stdout",
     "output_type": "stream",
     "text": [
      "Can't pickle <function <lambda> at 0x7fb79c604d40>: attribute lookup <lambda> on __main__ failed\n"
     ]
    }
   ],
   "source": [
    "with multiprocessing.Pool() as p:\n",
    "    try:\n",
    "        result = p.map(lambda x: x*x, arr)\n",
    "    except Exception as e:\n",
    "        print(e)"
   ]
  }
 ],
 "metadata": {
  "kernelspec": {
   "display_name": "Python 3 (ipykernel)",
   "language": "python",
   "name": "python3"
  },
  "language_info": {
   "codemirror_mode": {
    "name": "ipython",
    "version": 3
   },
   "file_extension": ".py",
   "mimetype": "text/x-python",
   "name": "python",
   "nbconvert_exporter": "python",
   "pygments_lexer": "ipython3",
   "version": "3.9.5"
  }
 },
 "nbformat": 4,
 "nbformat_minor": 4
}
