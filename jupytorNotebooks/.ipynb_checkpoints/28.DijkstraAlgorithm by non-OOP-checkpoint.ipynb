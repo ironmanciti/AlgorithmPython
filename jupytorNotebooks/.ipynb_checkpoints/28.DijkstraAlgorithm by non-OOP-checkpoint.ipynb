{
 "cells": [
  {
   "cell_type": "markdown",
   "metadata": {},
   "source": [
    "# 28. Dijkstra Algorithm by non-OOP\n",
    "\n",
    "<img src=\"graph_diagram.png\" width=\"300\">\n",
    "\n",
    "Graph Data Structure 를 이용한 OOP 방식이 아닌 non-OOP 방식의 Dijkstra Algorithm 구현이다.\n",
    "\n",
    "Graph 구조는 dictionary 를 이용하여 구현하고, 각 vertex 역시 dictionary 를 이용하여 각각의 neighbor 와 weight(distance) 정보를 보관한다.\n",
    "\n",
    "각 vertex 의 parent 와 start 로 부터의 distance 정보를 보관할 dictionary 를 생성한다.\n",
    "\n",
    "이미 방문이 완료된 vertex 를 보관할 list 를 생성한다.\n",
    "\n",
    "초기값으로 start vertext 의 distance 는 0 으로 그 이외의 vertex 는 distance 를 inf 로 setting 한다. parent 는 start vertext 는 자기 자신으로 하고 나머지 vertex 는 아직 결정되지 않았으므로 None 으로 한다.\n",
    "\n",
    "모든 vertext 가 방문 완료될 때까지 loop 하는데 각 loop 의 출발 vertex 는 반드시 현재까지 가장 shortest distance 를 가진 vertex 로 하고 그 vertext 의 이웃 vertext 들을 방문한다. 가장 shortest 인 vertex 는 방문 완료된 것으로 list 에 보관하여 다시는 방문 않도록 한다.\n",
    "\n",
    "(현재 vertext 의 distance + 이웃 vertext weight) < (이웃 vertex 의 distance) 이면, 이웃 vertext 의 distance 를 (현재 vertext 의 distance + 이웃 vertext weight) 로 변경해 준다.\n",
    "\n",
    "경로는 최종 vertext 의 parent 를 거슬러 올라가 back tracking 하여 출력한다."
   ]
  },
  {
   "cell_type": "code",
   "execution_count": 1,
   "metadata": {},
   "outputs": [],
   "source": [
    "graph = {\"a\": {\"b\": 7, \"c\": 9, \"f\": 14},\n",
    "              \"b\": {\"a\": 7, \"c\": 10, \"d\": 15},\n",
    "              \"c\": {\"a\": 9, \"b\": 10, \"d\": 11, \"f\": 2},\n",
    "              \"d\": {\"b\": 15, \"c\": 11, \"e\": 6},\n",
    "              \"e\": {\"d\": 6, \"f\": 9},\n",
    "              'f': {\"a\":14, \"c\":2, \"e\":9}\n",
    "        }\n",
    "\n",
    "inf = float(\"inf\")\n",
    "\n",
    "# cost dictionary 에서 각 vertix 별로 [shortest distance, parent] 정보 보관\n",
    "\n",
    "cost = {\"a\": [0, \"a\"], \"b\": [inf, None], \"c\": [inf, None], \"d\": [inf, None], \"e\": [inf, None], \"f\": [inf, None]}\n",
    "visited = []\n",
    "start = \"a\"\n",
    "goal = \"e\"\n",
    "path = [goal]"
   ]
  },
  {
   "cell_type": "code",
   "execution_count": 9,
   "metadata": {},
   "outputs": [],
   "source": [
    "\"\"\"\n",
    "- cost dictionary 에서 distance 값이 가장 작은 vertex 를 return 하는 helper function 을 작성\n",
    "- [c for c in cost.items] ==> sort 를 하기 위해 dictionary 를 (key, value) tuple 의 list 로 변환.\n",
    "-  key 는 각 vertex tuple 의 distance 로 하여  shortest distance 의 vertext 가 첫번째에 오도록 한다.\n",
    "\"\"\"\n",
    "\n",
    "def find_current_shortest_path(cost):\n",
    "    sorted_cost = sorted([c for c in cost.items() if c[0] not in visited], key=lambda x: x[1][0])\n",
    "    if sorted_cost:\n",
    "        return sorted_cost[0][0]         \n",
    "    else:\n",
    "        return None\n",
    "\n",
    "# parent 를 back trace 하여 출력할 path 구성\n",
    "def find_path(goal, path):\n",
    "    if goal == start:\n",
    "        return\n",
    "    path.append(cost[goal][1])\n",
    "    find_path(cost[goal][1], path)"
   ]
  },
  {
   "cell_type": "code",
   "execution_count": null,
   "metadata": {},
   "outputs": [],
   "source": [
    "node = find_current_shortest_path(cost)   # 탐색을 start 할 현재 shortest 인 vertex 를 구한다.\n",
    "\n",
    "while node is not None:\n",
    "    \n",
    "    # your coding here\n",
    "    \n",
    "\n",
    "find_path(goal, path)\n",
    "print(path[::-1])"
   ]
  },
  {
   "cell_type": "code",
   "execution_count": null,
   "metadata": {},
   "outputs": [],
   "source": []
  },
  {
   "cell_type": "code",
   "execution_count": null,
   "metadata": {},
   "outputs": [],
   "source": []
  }
 ],
 "metadata": {
  "kernelspec": {
   "display_name": "Python 3",
   "language": "python",
   "name": "python3"
  },
  "language_info": {
   "codemirror_mode": {
    "name": "ipython",
    "version": 3
   },
   "file_extension": ".py",
   "mimetype": "text/x-python",
   "name": "python",
   "nbconvert_exporter": "python",
   "pygments_lexer": "ipython3",
   "version": "3.7.3"
  }
 },
 "nbformat": 4,
 "nbformat_minor": 2
}
