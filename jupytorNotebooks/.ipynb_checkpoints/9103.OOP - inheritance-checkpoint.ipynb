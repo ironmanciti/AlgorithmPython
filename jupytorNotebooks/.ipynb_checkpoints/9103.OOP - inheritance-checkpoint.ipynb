{
 "cells": [
  {
   "cell_type": "markdown",
   "metadata": {},
   "source": [
    "# Object Oriented Programming\n",
    "\n",
    "- Class : 속성(attribute) 과 method 로 구성\n",
    "    \n",
    "    class Classname:\n",
    "        def __init__(self, *args):\n",
    "            self.변수명 (속성 정의)\n",
    "            \n",
    "        def methods(self, *args):\n",
    "            메소드 정의\n",
    "            \n",
    "            \n",
    "- Inheritance (상속)\n",
    "\n",
    "    class Subclass(superclass):\n",
    "    \n",
    "        \n",
    "- Encapsulation (은닉화)  \n",
    "\n",
    "    self._변수명\n",
    "    \n",
    "    \n",
    "- Polymorphism (다형성)\n",
    "\n",
    "    Python 은 자체로 다형성의 특성을 가진 언어이다.\n",
    "    \n",
    "   1 + 2 ==> 3  \n",
    "   '1' + '2'  =='12'"
   ]
  },
  {
   "cell_type": "code",
   "execution_count": 1,
   "metadata": {},
   "outputs": [
    {
     "data": {
      "text/plain": [
       "3"
      ]
     },
     "execution_count": 1,
     "metadata": {},
     "output_type": "execute_result"
    }
   ],
   "source": [
    "a = 1\n",
    "a.__add__(2)"
   ]
  },
  {
   "cell_type": "code",
   "execution_count": 2,
   "metadata": {},
   "outputs": [
    {
     "data": {
      "text/plain": [
       "'12'"
      ]
     },
     "execution_count": 2,
     "metadata": {},
     "output_type": "execute_result"
    }
   ],
   "source": [
    "a = '1'\n",
    "a.__add__('2')"
   ]
  },
  {
   "cell_type": "markdown",
   "metadata": {},
   "source": [
    "### Class example"
   ]
  },
  {
   "cell_type": "code",
   "execution_count": 3,
   "metadata": {},
   "outputs": [],
   "source": [
    "import matplotlib.pyplot as plt\n",
    "%matplotlib inline"
   ]
  },
  {
   "cell_type": "code",
   "execution_count": 4,
   "metadata": {},
   "outputs": [],
   "source": [
    "class Shape:\n",
    "    def __init__(self, radius=3, color='blue'):\n",
    "        self.radius = radius\n",
    "        self.color = color\n",
    "        \n",
    "    def add_radiut(self, r):\n",
    "        self.radius += r\n",
    "        \n",
    "    def draw(self, obj):\n",
    "        obj.draw()\n",
    "        plt.axis('scaled')\n",
    "        plt.show()"
   ]
  },
  {
   "cell_type": "code",
   "execution_count": 5,
   "metadata": {},
   "outputs": [],
   "source": [
    "class Circle(Shape):\n",
    "    def draw(self):\n",
    "        plt.gca().add_patch(plt.Circle((0, 0), radius=self.radius, fc=self.color))"
   ]
  },
  {
   "cell_type": "code",
   "execution_count": 6,
   "metadata": {},
   "outputs": [],
   "source": [
    "shape = Shape()\n",
    "redCircle = Circle(10, 'red')"
   ]
  },
  {
   "cell_type": "code",
   "execution_count": 7,
   "metadata": {},
   "outputs": [
    {
     "data": {
      "image/png": "[encoded data removed]",
      "text/plain": [
       "<Figure size 432x288 with 1 Axes>"
      ]
     },
     "metadata": {
      "needs_background": "light"
     },
     "output_type": "display_data"
    }
   ],
   "source": [
    "shape.draw(redCircle)"
   ]
  },
  {
   "cell_type": "code",
   "execution_count": 8,
   "metadata": {},
   "outputs": [],
   "source": [
    "class Rect(Shape):\n",
    "    def __init__(self, width, height, color):\n",
    "        super().__init__(self, color=color)\n",
    "        self.width = width\n",
    "        self.height = height\n",
    "        \n",
    "    def draw(self):\n",
    "        plt.gca().add_patch(plt.Rectangle((0, 0), width=self.width, height=self.height, fc=self.color))"
   ]
  },
  {
   "cell_type": "code",
   "execution_count": 9,
   "metadata": {},
   "outputs": [
    {
     "data": {
      "image/png": "[encoded data removed]",
      "text/plain": [
       "<Figure size 432x288 with 1 Axes>"
      ]
     },
     "metadata": {
      "needs_background": "light"
     },
     "output_type": "display_data"
    }
   ],
   "source": [
    "blueRect = Rect(5, 2, 'yellow')\n",
    "shape.draw(blueRect)"
   ]
  },
  {
   "cell_type": "code",
   "execution_count": null,
   "metadata": {},
   "outputs": [],
   "source": []
  }
 ],
 "metadata": {
  "kernelspec": {
   "display_name": "Python 3",
   "language": "python",
   "name": "python3"
  },
  "language_info": {
   "codemirror_mode": {
    "name": "ipython",
    "version": 3
   },
   "file_extension": ".py",
   "mimetype": "text/x-python",
   "name": "python",
   "nbconvert_exporter": "python",
   "pygments_lexer": "ipython3",
   "version": "3.7.1"
  }
 },
 "nbformat": 4,
 "nbformat_minor": 2
}
