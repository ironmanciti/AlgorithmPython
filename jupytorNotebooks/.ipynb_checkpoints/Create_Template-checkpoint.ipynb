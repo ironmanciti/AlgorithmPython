{
 "cells": [
  {
   "cell_type": "code",
   "execution_count": 1,
   "id": "10b9d8c4",
   "metadata": {},
   "outputs": [
    {
     "name": "stdout",
     "output_type": "stream",
     "text": [
      "['00.TableOfContets.ipynb', '01.print and help.ipynb', '02.arithmetic calculation.ipynb', '03.data-types.ipynb', '04.variable and practice.ipynb', '05.functions-variable scope-builtin function.ipynb', '06.list-and-tuple.ipynb', '07.for-loop.ipynb', '08.range.ipynb', '09.dictionary.ipynb', '10.string-escape-.ipynb', '11.string-methods and formatting.ipynb', '12.if-comparison-logical operation.ipynb', '13.import-module.ipynb', '14.object-oriented-programming.ipynb', '15.set.ipynb', '16.while-loop.ipynb', '17.File_system_Exception_Assert.ipynb', '18.Regular Expression.ipynb', '19.Functional Programming.ipynb', '20.List Comprehension.ipynb', '21.Binary Search Algoritym.ipynb', '22.Various_Python_Libraries.ipynb', '23.Webpage_Read_using_BeautifulSoup.ipynb', '24.Database_and_SQL.ipynb', '26.GraphDataStructure.ipynb', '31.Argument_Parse.ipynb', '33. Tkinter.ipynb', 'Capstone Project 1. Pillow Image Processing.ipynb', 'Capstone Project 2. Pandas Data Processing.ipynb', 'Capstone Project 3 - Log Check and Email send.ipynb', 'MarkdownTip.ipynb']\n"
     ]
    }
   ],
   "source": [
    "import nbformat as nbf\n",
    "import os\n",
    "\n",
    "notebooks = [file for file in os.listdir(os.getcwd())  if file.endswith('.ipynb') and \n",
    "                    file not in ['Merging_Notebooks.ipynb', 'empty_page.ipynb', 'Untitled.ipynb',  \n",
    "                                 'Create_Template.ipynb'] and not file.startswith('combine')]\n",
    "\n",
    "print(notebooks)\n",
    "\n",
    "for note in notebooks:\n",
    "    ntbk = nbf.read(note, nbf.NO_CONVERT)\n",
    "    new_ntbk = ntbk\n",
    "    new_ntbk.cells = [cell for cell in ntbk.cells if cell.cell_type == \"markdown\"]\n",
    "    nbf.write(new_ntbk, \"template_\" + note, version=nbf.NO_CONVERT)"
   ]
  },
  {
   "cell_type": "code",
   "execution_count": null,
   "id": "1aad1a90",
   "metadata": {},
   "outputs": [],
   "source": []
  }
 ],
 "metadata": {
  "kernelspec": {
   "display_name": "Python 3",
   "language": "python",
   "name": "python3"
  },
  "language_info": {
   "codemirror_mode": {
    "name": "ipython",
    "version": 3
   },
   "file_extension": ".py",
   "mimetype": "text/x-python",
   "name": "python",
   "nbconvert_exporter": "python",
   "pygments_lexer": "ipython3",
   "version": "3.7.3"
  }
 },
 "nbformat": 4,
 "nbformat_minor": 5
}
