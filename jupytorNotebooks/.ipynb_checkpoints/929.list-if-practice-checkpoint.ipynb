{
 "cells": [
  {
   "cell_type": "raw",
   "metadata": {},
   "source": [
    "1) 다음 list 에서 10 과 30 사이의 숫자 중 홀수만 골라 출력하라.\n",
    "\n",
    "    xlist = [-5, 5, 10, 12, 13, 14, 15, 25, 30, 40, 55, 100]"
   ]
  },
  {
   "cell_type": "code",
   "execution_count": 1,
   "metadata": {},
   "outputs": [
    {
     "name": "stdout",
     "output_type": "stream",
     "text": [
      "13,15,25,"
     ]
    }
   ],
   "source": [
    "xlist = [-5, 5, 10, 12, 13, 14, 15, 25, 30, 40, 55, 100]\n",
    "for i in xlist:\n",
    "    if i >= 10 and i <= 30:\n",
    "        if i % 2 == 1:\n",
    "            print(i, end=\",\")"
   ]
  },
  {
   "cell_type": "raw",
   "metadata": {},
   "source": [
    "2) 다음 영어 문장에서 너(you)는 몇번 나오는가 ?\n",
    "\n",
    "    \"You don't go to school on Saturday. I want you be happy. I miss you very much. You don't forget me\""
   ]
  },
  {
   "cell_type": "code",
   "execution_count": 2,
   "metadata": {},
   "outputs": [
    {
     "data": {
      "text/plain": [
       "4"
      ]
     },
     "execution_count": 2,
     "metadata": {},
     "output_type": "execute_result"
    }
   ],
   "source": [
    "s = \"You don't go to school on Saturday. I want you be happy.\\\n",
    "I miss you very much. You don't forget me\"\n",
    "\n",
    "s = s.lower()\n",
    "s.count(\"you\")"
   ]
  },
  {
   "cell_type": "code",
   "execution_count": 3,
   "metadata": {},
   "outputs": [
    {
     "data": {
      "text/plain": [
       "\"you don't go to school on saturday. i want you be happy.i miss you very much. you don't forget me\""
      ]
     },
     "execution_count": 3,
     "metadata": {},
     "output_type": "execute_result"
    }
   ],
   "source": [
    "s"
   ]
  },
  {
   "cell_type": "raw",
   "metadata": {},
   "source": [
    "3) 파이썬 강좌의 수강생 목록은 다음과 같다. 어떤 사람이 수강생 목록에 존재하는지 check 하는 함수를 작성하라.\n",
    "   목록에 존재하면 True, 존재하지 않으면 False 를 반환한다.\n",
    "   \n",
    "   학생부 : [\"김철수\", \"홍길동\", \"문재인\", \"김정은\", \"트럼프\", \"성춘향\"]"
   ]
  },
  {
   "cell_type": "code",
   "execution_count": 4,
   "metadata": {},
   "outputs": [],
   "source": [
    "student_list = [\"김철수\", \"홍길동\", \"문재인\", \"김정은\", \"트럼프\", \"성춘향\"]\n",
    "\n",
    "def true_or_false(xlist, name):\n",
    "    if name in xlist:\n",
    "        return True\n",
    "    else:\n",
    "        return False"
   ]
  },
  {
   "cell_type": "code",
   "execution_count": 5,
   "metadata": {},
   "outputs": [
    {
     "data": {
      "text/plain": [
       "True"
      ]
     },
     "execution_count": 5,
     "metadata": {},
     "output_type": "execute_result"
    }
   ],
   "source": [
    "true_or_false(student_list, \"김철수\")"
   ]
  },
  {
   "cell_type": "raw",
   "metadata": {
    "collapsed": true
   },
   "source": [
    "4) 다음의 주민번호 리스트에서 남, 녀 별로 90 년생 이후 출생자를 골라내라.\n",
    "\n",
    "    id_list = ['920801-1041798', '800902-2048746', '971010-1023987', '871203-2014987',\n",
    "               '820801-1041798', '900902-2048746', '941010-1023987', '971203-2014987']"
   ]
  },
  {
   "cell_type": "code",
   "execution_count": 6,
   "metadata": {},
   "outputs": [],
   "source": [
    "id_list = ['920801-1041798', '800902-2048746', '971010-1023987', '871203-2014987',\n",
    "               '820801-1041798', '900902-2048746', '941010-1023987', '971203-2014987']"
   ]
  },
  {
   "cell_type": "code",
   "execution_count": 7,
   "metadata": {},
   "outputs": [
    {
     "data": {
      "text/plain": [
       "['920801-1041798',\n",
       " '800902-2048746',\n",
       " '971010-1023987',\n",
       " '871203-2014987',\n",
       " '820801-1041798',\n",
       " '900902-2048746',\n",
       " '941010-1023987',\n",
       " '971203-2014987']"
      ]
     },
     "execution_count": 7,
     "metadata": {},
     "output_type": "execute_result"
    }
   ],
   "source": [
    "id_list"
   ]
  },
  {
   "cell_type": "code",
   "execution_count": 8,
   "metadata": {},
   "outputs": [
    {
     "name": "stdout",
     "output_type": "stream",
     "text": [
      "남성 =  ['920801-1041798', '971010-1023987', '941010-1023987']\n",
      "여성 =  ['900902-2048746', '971203-2014987']\n"
     ]
    }
   ],
   "source": [
    "man = []\n",
    "lady = []\n",
    "\n",
    "for id in id_list:\n",
    "    if id[:2] >= '90':\n",
    "        if id[7] == '1':\n",
    "            man.append(id)\n",
    "        else:\n",
    "            lady.append(id)\n",
    "print('남성 = ',man)\n",
    "print('여성 = ',lady)"
   ]
  },
  {
   "cell_type": "code",
   "execution_count": null,
   "metadata": {
    "collapsed": true
   },
   "outputs": [],
   "source": []
  }
 ],
 "metadata": {
  "kernelspec": {
   "display_name": "Python 3",
   "language": "python",
   "name": "python3"
  },
  "language_info": {
   "codemirror_mode": {
    "name": "ipython",
    "version": 3
   },
   "file_extension": ".py",
   "mimetype": "text/x-python",
   "name": "python",
   "nbconvert_exporter": "python",
   "pygments_lexer": "ipython3",
   "version": "3.7.1"
  }
 },
 "nbformat": 4,
 "nbformat_minor": 2
}
