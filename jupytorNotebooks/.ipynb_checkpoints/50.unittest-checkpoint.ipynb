{
 "cells": [
  {
   "cell_type": "markdown",
   "id": "curious-shower",
   "metadata": {},
   "source": [
    "# 50. unittest - 단위테스트\n",
    "\n",
    "- Python 에 포함된 다양한 test를 자동화 할 수 있는 기능이 포함된 표준 라이브러리  \n",
    "\n",
    "\n",
    "- unittest에 포함된 주요 개념  \n",
    "\n",
    "\n",
    "    - TestCase : unittest framework의 테스트 조직의 기본 단위  \n",
    "    - Fixture \n",
    "        - 테스트 함수의 전 또는 후에 실행\n",
    "        - 테스트가 실행되기 전에 테스트 환경이 예상된 상태에 있는지 확인  \n",
    "        - 테스트 전에 database table을 만들거나 테스트 후에 resouce 정리에 사용  \n",
    "        \n",
    "    - assertion\n",
    "        - unittest가 테스트에 통과하는지 실패하는지 결정 \n",
    "        - bool test, 객체의 적합성, 적절한 예외 발생 여부등 점검 가능 \n",
    "        - assertion이 fail하면 함수가 fail"
   ]
  },
  {
   "cell_type": "markdown",
   "id": "younger-neutral",
   "metadata": {},
   "source": [
    "## Test case 작성\n",
    "\n",
    "- setUp() : Fixture. Test 전 수행  \n",
    "- tearDown() : Fixture. Test 후 수행  \n",
    "- `test_` 라는 이름으로 시갖하는 모든 method 가 실행"
   ]
  },
  {
   "cell_type": "code",
   "execution_count": 1,
   "id": "employed-contribution",
   "metadata": {},
   "outputs": [
    {
     "name": "stdout",
     "output_type": "stream",
     "text": [
      "Overwriting unit_test.py\n"
     ]
    }
   ],
   "source": [
    "%%writefile unit_test.py\n",
    "\n",
    "import unittest\n",
    "import os\n",
    "\n",
    "def custom_function(file_name):\n",
    "    with open(file_name, 'r') as f:\n",
    "        return sum(1 for _ in f)\n",
    "        \n",
    "class CustomTests(unittest.TestCase):\n",
    "    \n",
    "    def setUp(self):\n",
    "        self.file_name = 'unit_test_file.txt'\n",
    "        with open(self.file_name, 'w') as f:\n",
    "            f.write(\"\"\"\n",
    "                setUp() 은 Fixture 입니다.\n",
    "                Test 수행 전에 수행됩니다.\n",
    "            \"\"\".strip())\n",
    "            \n",
    "    def tearDown(self):\n",
    "        try:\n",
    "            os.remove(self.file_name)\n",
    "        except:\n",
    "            pass\n",
    "    \n",
    "    def test_run(self):\n",
    "        custom_function(self.file_name)\n",
    "        \n",
    "    def test_no_file(self):\n",
    "        # error 가 발생해야 test 성공\n",
    "        with self.assertRaises(IOError):\n",
    "            #custom_function(self.file_name)\n",
    "            custom_function('abc.txt')\n",
    "        \n",
    "    def test_line_count(self):\n",
    "        self.assertEqual(custom_function(self.file_name), 3)\n",
    "        \n",
    "if __name__ == '__main__':\n",
    "    unittest.main()"
   ]
  },
  {
   "cell_type": "code",
   "execution_count": 2,
   "id": "blond-boulder",
   "metadata": {},
   "outputs": [
    {
     "name": "stdout",
     "output_type": "stream",
     "text": [
      "F..\r\n",
      "======================================================================\r\n",
      "FAIL: test_line_count (__main__.CustomTests)\r\n",
      "----------------------------------------------------------------------\r\n",
      "Traceback (most recent call last):\r\n",
      "  File \"unit_test.py\", line 35, in test_line_count\r\n",
      "    self.assertEqual(custom_function(self.file_name), 3)\r\n",
      "AssertionError: 2 != 3\r\n",
      "\r\n",
      "----------------------------------------------------------------------\r\n",
      "Ran 3 tests in 0.001s\r\n",
      "\r\n",
      "FAILED (failures=1)\r\n"
     ]
    }
   ],
   "source": [
    "#%%bash\n",
    "!python unit_test.py"
   ]
  },
  {
   "cell_type": "markdown",
   "id": "premier-sullivan",
   "metadata": {},
   "source": [
    "## various assert methods"
   ]
  },
  {
   "cell_type": "code",
   "execution_count": 3,
   "id": "pending-alberta",
   "metadata": {},
   "outputs": [
    {
     "name": "stdout",
     "output_type": "stream",
     "text": [
      "Overwriting unit_test.py\n"
     ]
    }
   ],
   "source": [
    "%%writefile unit_test.py\n",
    "\n",
    "import unittest\n",
    "import os\n",
    "\n",
    "class VariousAsserts(unittest.TestCase):\n",
    "        \n",
    "    def test_asserts(self):\n",
    "        a = 100\n",
    "        b = 200\n",
    "#         self.assertEqual(a, b)   # a == b\n",
    "        self.assertNotEqual(a, b)  # a!= b\n",
    "        \n",
    "        #self.asertTrue(a == b)  # True\n",
    "        self.assertFalse(a == b) # False\n",
    "        \n",
    "        #self.assertIs(a, b)\n",
    "        self.assertIsNot(a, b)\n",
    "        \n",
    "        #self.assertIsNone(a)\n",
    "        self.assertIsNotNone(a)\n",
    "        \n",
    "        #self.assertNotIsInstance(a, int) #isinstance(a, int)\n",
    "        self.assertIsInstance(a, int)     #notisinstance(a, int)\n",
    "        \n",
    "        #self.assertGreater(a, b)   # a > b\n",
    "        self.assertLess(a, b)       # a < b\n",
    "        \n",
    "        \n",
    "if __name__ == '__main__':\n",
    "    unittest.main()"
   ]
  },
  {
   "cell_type": "code",
   "execution_count": 4,
   "id": "meaning-bumper",
   "metadata": {},
   "outputs": [
    {
     "name": "stdout",
     "output_type": "stream",
     "text": [
      ".\r\n",
      "----------------------------------------------------------------------\r\n",
      "Ran 1 test in 0.000s\r\n",
      "\r\n",
      "OK\r\n"
     ]
    }
   ],
   "source": [
    "#%%bash\n",
    "!python unit_test.py"
   ]
  }
 ],
 "metadata": {
  "kernelspec": {
   "display_name": "Python 3",
   "language": "python",
   "name": "python3"
  },
  "language_info": {
   "codemirror_mode": {
    "name": "ipython",
    "version": 3
   },
   "file_extension": ".py",
   "mimetype": "text/x-python",
   "name": "python",
   "nbconvert_exporter": "python",
   "pygments_lexer": "ipython3",
   "version": "3.7.10"
  }
 },
 "nbformat": 4,
 "nbformat_minor": 5
}
