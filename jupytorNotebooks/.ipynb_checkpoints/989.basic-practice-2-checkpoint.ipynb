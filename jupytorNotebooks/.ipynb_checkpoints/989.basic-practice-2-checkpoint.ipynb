{
 "cells": [
  {
   "cell_type": "markdown",
   "metadata": {},
   "source": [
    "# 연습문제 - 2"
   ]
  },
  {
   "cell_type": "raw",
   "metadata": {},
   "source": [
    "1) 선형방정식 (linear equation) y = mx + b 를 함수로 작성한다. \n",
    "\n",
    "   이때, 기본값(default value)은 m = 1, b = 0 로 한다."
   ]
  },
  {
   "cell_type": "code",
   "execution_count": 1,
   "metadata": {},
   "outputs": [
    {
     "name": "stdout",
     "output_type": "stream",
     "text": [
      "10\n",
      "20\n",
      "23\n",
      "23\n"
     ]
    }
   ],
   "source": [
    "def linear(x, m=1, b=0):\n",
    "    return m * x + b\n",
    "\n",
    "print(linear(10))\n",
    "print(linear(10, 2))\n",
    "print(linear(10, 2, 3))\n",
    "print(linear(10, m=2, b=3))"
   ]
  },
  {
   "cell_type": "raw",
   "metadata": {},
   "source": [
    "2) 다음 함수가 수행된 후 print 되는 값은 ?\n",
    "\n",
    "    def f(x):\n",
    "        return x + 1, x * x\n",
    "\n",
    "    x, y = f(3)\n",
    "    print(x, y)"
   ]
  },
  {
   "cell_type": "code",
   "execution_count": 2,
   "metadata": {},
   "outputs": [
    {
     "name": "stdout",
     "output_type": "stream",
     "text": [
      "4 9\n"
     ]
    }
   ],
   "source": [
    "def f(x):\n",
    "    return x + 1, x * x\n",
    "\n",
    "x, y = f(3)\n",
    "print(x, y)"
   ]
  },
  {
   "cell_type": "raw",
   "metadata": {},
   "source": [
    "3) 다음 code 가 수행된 이후 z 의 값은 ?\n",
    "\n",
    "    def f1(x, y):\n",
    "        return (x + 1) / (y - 1)\n",
    "\n",
    "    z = f1(2, 2)\n",
    "    print(z)\n",
    "    \n",
    "    def f1(x, y=2):\n",
    "        return (x + 1) / (y - 1)\n",
    "\n",
    "    z = f1(1)\n",
    "    print(z)"
   ]
  },
  {
   "cell_type": "code",
   "execution_count": 3,
   "metadata": {},
   "outputs": [
    {
     "name": "stdout",
     "output_type": "stream",
     "text": [
      "3.0\n"
     ]
    }
   ],
   "source": [
    "def f1(x, y):\n",
    "    return (x + 1) / (y - 1)\n",
    "\n",
    "z = f1(2, 2)\n",
    "print(z)"
   ]
  },
  {
   "cell_type": "code",
   "execution_count": 4,
   "metadata": {},
   "outputs": [
    {
     "name": "stdout",
     "output_type": "stream",
     "text": [
      "2.0\n"
     ]
    }
   ],
   "source": [
    "def f1(x, y=2):\n",
    "    return (x + 1) / (y - 1)\n",
    "\n",
    "z = f1(1)\n",
    "print(z)"
   ]
  },
  {
   "cell_type": "markdown",
   "metadata": {},
   "source": [
    "4) 섭씨 온도를 화씨 온도로 변환하는 함수를 작성한다. 변환 공식은 다음과 같다.\n",
    "\n",
    "$$ T_f = \\frac{9}{5} T_c +32$$"
   ]
  },
  {
   "cell_type": "code",
   "execution_count": 5,
   "metadata": {},
   "outputs": [
    {
     "data": {
      "text/plain": [
       "32.0"
      ]
     },
     "execution_count": 5,
     "metadata": {},
     "output_type": "execute_result"
    }
   ],
   "source": [
    "def convert_TF(TC):\n",
    "    return 9 / 5 * TC + 32\n",
    "\n",
    "convert_TF(0)"
   ]
  },
  {
   "cell_type": "raw",
   "metadata": {},
   "source": [
    "5) 시간, 분, 초를 인수로 받아 몇일에 해당하는지 환산하는 함수를 작성한다. \n",
    "   \n",
    "   (초를 날자로 환산하는 도우미 함수(helper function) 을 작성하여 날자를 반환한다)"
   ]
  },
  {
   "cell_type": "code",
   "execution_count": 6,
   "metadata": {},
   "outputs": [
    {
     "data": {
      "text/plain": [
       "4.0796874999999995"
      ]
     },
     "execution_count": 6,
     "metadata": {},
     "output_type": "execute_result"
    }
   ],
   "source": [
    "def convert_sec_to_days(seconds):\n",
    "    return seconds / 60 / 60 / 24\n",
    "\n",
    "def convert_to_date(hours, minutes, seconds):\n",
    "    total_seconds = hours * 60 * 60 + minutes * 60 + seconds\n",
    "    return convert_sec_to_days(total_seconds)\n",
    "\n",
    "convert_to_date(97, 54, 45)"
   ]
  },
  {
   "cell_type": "code",
   "execution_count": null,
   "metadata": {},
   "outputs": [],
   "source": []
  },
  {
   "cell_type": "code",
   "execution_count": null,
   "metadata": {},
   "outputs": [],
   "source": []
  }
 ],
 "metadata": {
  "kernelspec": {
   "display_name": "Python 3",
   "language": "python",
   "name": "python3"
  },
  "language_info": {
   "codemirror_mode": {
    "name": "ipython",
    "version": 3
   },
   "file_extension": ".py",
   "mimetype": "text/x-python",
   "name": "python",
   "nbconvert_exporter": "python",
   "pygments_lexer": "ipython3",
   "version": "3.7.1"
  }
 },
 "nbformat": 4,
 "nbformat_minor": 2
}
