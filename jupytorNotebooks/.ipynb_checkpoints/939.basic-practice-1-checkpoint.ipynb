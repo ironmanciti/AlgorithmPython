{
 "cells": [
  {
   "cell_type": "markdown",
   "metadata": {},
   "source": [
    "# 연습문제 - 1"
   ]
  },
  {
   "cell_type": "raw",
   "metadata": {},
   "source": [
    "1) 변수 x 의 값이 10 이고 변수 y 의 값이 20 인 경우 다음 문장의 수행 후 x, y 의 값은 어떻게 될까 ?\n",
    "\n",
    "    x = y\n",
    "    y = x\n",
    "    print(x, y)"
   ]
  },
  {
   "cell_type": "code",
   "execution_count": null,
   "metadata": {},
   "outputs": [],
   "source": [
    "x = 10\n",
    "y = 20\n",
    "x = y\n",
    "y = x\n",
    "print(x, y)"
   ]
  },
  {
   "cell_type": "raw",
   "metadata": {},
   "source": [
    "2) x 값이 3 이라고 할때 x ** 2 + x * x 의 값은 ?\n",
    "    print(x ** 2 + x * x)"
   ]
  },
  {
   "cell_type": "code",
   "execution_count": null,
   "metadata": {},
   "outputs": [],
   "source": [
    "x = 3\n",
    "print(x**2 + x*x)"
   ]
  },
  {
   "cell_type": "raw",
   "metadata": {},
   "source": [
    "3) 2 + 4 % 5 의 값은 ?"
   ]
  },
  {
   "cell_type": "code",
   "execution_count": null,
   "metadata": {},
   "outputs": [],
   "source": [
    "print(2 + 4 % 5)"
   ]
  },
  {
   "cell_type": "raw",
   "metadata": {},
   "source": [
    "4) 다음 두 연산식의 결과는 ?\n",
    "\n",
    "    5.5 - 11 / 2\n",
    "\n",
    "    5.5 - 11 // 2\n",
    "    \n",
    "    5.5 - 11 % 2"
   ]
  },
  {
   "cell_type": "code",
   "execution_count": null,
   "metadata": {},
   "outputs": [],
   "source": [
    "print(5.5 - 11 / 2)"
   ]
  },
  {
   "cell_type": "code",
   "execution_count": null,
   "metadata": {},
   "outputs": [],
   "source": [
    "print(5.5 - 11 // 2)"
   ]
  },
  {
   "cell_type": "code",
   "execution_count": null,
   "metadata": {},
   "outputs": [],
   "source": [
    "print(5.5 - 11 % 2)"
   ]
  },
  {
   "cell_type": "raw",
   "metadata": {},
   "source": [
    "5) % 를 이용한 홀수, 짝수 구분"
   ]
  },
  {
   "cell_type": "code",
   "execution_count": null,
   "metadata": {},
   "outputs": [],
   "source": [
    "n = 100\n",
    "n % 2"
   ]
  },
  {
   "cell_type": "code",
   "execution_count": null,
   "metadata": {},
   "outputs": [],
   "source": [
    "n = 101\n",
    "n % 2"
   ]
  },
  {
   "cell_type": "raw",
   "metadata": {},
   "source": [
    "6) 변수값의 할당\n",
    "\n",
    "    hello = \"안녕\"\n",
    "\n",
    "    world = \"하세요\"\n",
    "\n",
    "    print(hello, world) 의 결과는 ?"
   ]
  },
  {
   "cell_type": "code",
   "execution_count": null,
   "metadata": {},
   "outputs": [],
   "source": [
    "hello = \"안녕\"\n",
    "world = \"하세요\"\n",
    "print(hello, world)"
   ]
  },
  {
   "cell_type": "raw",
   "metadata": {},
   "source": [
    "7) 변수값의 할당\n",
    "\n",
    "    x = 10\n",
    "    y = 20\n",
    "\n",
    "    a, b = x + 1, y + 1\n",
    "\n",
    "print(a,b) 의 결과는 ?"
   ]
  },
  {
   "cell_type": "code",
   "execution_count": null,
   "metadata": {},
   "outputs": [],
   "source": [
    "x = 10\n",
    "y = 20\n",
    "a, b = x + 1, y + 1\n",
    "print(a,b)"
   ]
  },
  {
   "cell_type": "markdown",
   "metadata": {},
   "source": [
    "8) 원의 넓이 구하기 : 반지름이 10 인 원의 넓이를 $S = \\pi r ^ 2 $ 공식을 사용하여 구한다. ($\\pi = 3.14$)"
   ]
  },
  {
   "cell_type": "code",
   "execution_count": null,
   "metadata": {},
   "outputs": [],
   "source": [
    "pi = 3.14\n",
    "r  = 10\n",
    "S = pi * r ** 2\n",
    "print(S)"
   ]
  },
  {
   "cell_type": "code",
   "execution_count": null,
   "metadata": {},
   "outputs": [],
   "source": []
  }
 ],
 "metadata": {
  "kernelspec": {
   "display_name": "Python 3",
   "language": "python",
   "name": "python3"
  },
  "language_info": {
   "codemirror_mode": {
    "name": "ipython",
    "version": 3
   },
   "file_extension": ".py",
   "mimetype": "text/x-python",
   "name": "python",
   "nbconvert_exporter": "python",
   "pygments_lexer": "ipython3",
   "version": "3.7.1"
  }
 },
 "nbformat": 4,
 "nbformat_minor": 2
}
