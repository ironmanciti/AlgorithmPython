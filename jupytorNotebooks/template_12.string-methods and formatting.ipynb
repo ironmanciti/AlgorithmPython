{
 "cells": [
  {
   "cell_type": "markdown",
   "metadata": {},
   "source": [
    "# 12. String 의 여러가지 사용방법\n",
    "\n",
    "## 12-1. string class 의 주요 메소드 (method)\n",
    "\n",
    "### 대, 소문자 변환\n",
    "    lower( ), upper( )\n",
    "### 문자열(string) 내의 특정 문자 갯수 \n",
    "    count( )\n",
    "### 앞부분 / 뒷부분 화이트 스페이스(whitespace) 제거\n",
    "    \n",
    "    Python 의 whitespace\n",
    "    \n",
    "    ' ' : space (공백)\n",
    "    '\\n': newline (줄바꿈)\n",
    "    '\\r': carriage return (\n",
    "    '\\t': 수평탭 (horizontal tab)\n",
    "    '\\v': 수직탭 (vertical tab)\n",
    "    \n",
    "    strip( )  - 앞, 뒤의 whitespace 제거\n",
    "    lstrip( ) - 앞부분의 whitespace 제거\n",
    "    rstrip( ) - 뒷부분의 whitespace 제거\n",
    "    \n",
    "    \n",
    "### 문자열(string) 내의 특정 문자, 문자열의 위치\n",
    "    find( ), index( )\n",
    "    \n",
    "### 문자열을 다른 문자열로 대치 \n",
    "    replace( )\n",
    "    \n",
    "### 문자열 쪼개기 / 합치기\n",
    "    split( )\n",
    "    join( )"
   ]
  },
  {
   "cell_type": "markdown",
   "metadata": {},
   "source": [
    "### built-in methods"
   ]
  },
  {
   "cell_type": "markdown",
   "metadata": {},
   "source": [
    "- 구분자를 이용한 list 의 단일 string 변환"
   ]
  },
  {
   "cell_type": "markdown",
   "metadata": {
    "collapsed": true
   },
   "source": [
    "## 12-2. 문자열 포매팅 (String Formatting)\n",
    "\n",
    "- 문자열 포매팅이란 문자열 내에 어떤 값을 삽입하는 것\n",
    "\n",
    "\n",
    "-  { } 로 위치를 표시하고 format( ) method 로 mapping 시킨다.\n",
    "\n",
    "\n",
    "-  `{[순서]:[표시형식]}` 지정 가능\n",
    "\n",
    "\n",
    "-  format( ) method 대신 % 를 이용할 수도 있다. $\\rightarrow$ Python 2.7 방식"
   ]
  },
  {
   "cell_type": "markdown",
   "metadata": {},
   "source": [
    "## 12-3. 포맷문자열 리터럴 (f-문자열)\n",
    "\n",
    "-  f+string 내에 {expression}  사용"
   ]
  },
  {
   "cell_type": "markdown",
   "metadata": {},
   "source": [
    "### Python 2.7 형식"
   ]
  },
  {
   "cell_type": "markdown",
   "metadata": {},
   "source": [
    "### 연습문제\n",
    "\n",
    "1) 다음의 print 결과는 ?  \n",
    "\n",
    "    s = \"Python is awesome\"  \n",
    "    print(s[1:3])"
   ]
  },
  {
   "cell_type": "markdown",
   "metadata": {},
   "source": [
    "2) \"Spam and Eggs\" 를 입력할 때 다음 프로그램의 출력 결과는 ?  \n",
    "\n",
    "    def main():\n",
    "        msg = input(\"Enter a phrase:  \")  \n",
    "        for w in msg.split():  \n",
    "            print(w[0], end=\"\")  \n",
    "\n",
    "    main()\n",
    "    \n",
    "    (결과) SaE"
   ]
  },
  {
   "cell_type": "markdown",
   "metadata": {},
   "source": [
    "3) 다음의 출력 결과는 ?\n",
    "\n",
    "    for x in \"Mississippi\".split(\"i\"):\n",
    "        print(x, end=\"\")\n",
    "        \n",
    "        (결과) Msssspp"
   ]
  },
  {
   "cell_type": "markdown",
   "metadata": {},
   "source": [
    "4) 다음 출력 결과는 ?\n",
    "\n",
    "    s = \"Jane Doe\"  \n",
    "    print(s[3 : 1 : -1])\n",
    "    \n",
    "    (결과) en"
   ]
  },
  {
   "cell_type": "markdown",
   "metadata": {},
   "source": [
    "5) s = \"Hello, Python World\" 을 알파벳 별로 몇개인지 계산 (단, 대소문자 무시)\n",
    "\n",
    "* hint : \n",
    "    1. \",\" 와 \" \" 을 \"\" 로 replace  \n",
    "    2. s.lower() 를 이용하여 소문자로 통일\n",
    "    3. dictionary 를 이용하여 알파벳 별로 개수 누적\n",
    "\n",
    "(결과)  \n",
    "```\n",
    "        d 1\n",
    "        e 1\n",
    "        h 2\n",
    "        l 3\n",
    "        n 1\n",
    "        o 3\n",
    "        p 1\n",
    "        r 1\n",
    "        t 1\n",
    "        w 1\n",
    "        y 1\n",
    "```"
   ]
  }
 ],
 "metadata": {
  "kernelspec": {
   "display_name": "Python 3",
   "language": "python",
   "name": "python3"
  },
  "language_info": {
   "codemirror_mode": {
    "name": "ipython",
    "version": 3
   },
   "file_extension": ".py",
   "mimetype": "text/x-python",
   "name": "python",
   "nbconvert_exporter": "python",
   "pygments_lexer": "ipython3",
   "version": "3.7.10"
  }
 },
 "nbformat": 4,
 "nbformat_minor": 2
}
