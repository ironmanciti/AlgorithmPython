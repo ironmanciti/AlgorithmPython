{
 "cells": [
  {
   "cell_type": "markdown",
   "metadata": {},
   "source": [
    "# 22. 자주 사용하는 Python Library 소개"
   ]
  },
  {
   "cell_type": "markdown",
   "metadata": {},
   "source": [
    "## os\n",
    "\n",
    "- 환경 변수나 디렉터리, 파일 등의 OS 자원을 제어할 수 있게 해주는 모듈이다"
   ]
  },
  {
   "cell_type": "markdown",
   "metadata": {},
   "source": [
    "## sys.path\n",
    "\n",
    "- 파이썬 모듈들이 저장되어 있는 위치를 나타낸다. 즉 이 위치에 있는 파이썬 모듈은 경로에 상관없이 어디에서나 불러올 수 있다."
   ]
  },
  {
   "cell_type": "markdown",
   "metadata": {},
   "source": [
    "## glob\n",
    "\n",
    "- 파일들의 리스트를 뽑을 때 사용"
   ]
  },
  {
   "cell_type": "markdown",
   "metadata": {},
   "source": [
    "## os.walk \n",
    "\n",
    "- 모든 파일/폴더 출력하기"
   ]
  },
  {
   "cell_type": "markdown",
   "metadata": {},
   "source": [
    "## pickle"
   ]
  },
  {
   "cell_type": "markdown",
   "metadata": {},
   "source": [
    "## time\n",
    "\n",
    "- ``time.time()``  \n",
    "    - ``UTC``(Universal Time Coordinated 협정 세계 표준시)를 사용하여 현재 시간을 실수 형태로 돌려주는 함수  \n",
    "    - 1970년 1월 1일 0시 0분 0초를 기준으로 지난 시간을 초 단위로 돌려준다\n",
    "    \n",
    "    \n",
    "- ``time.localtime``  \n",
    "    - ``time.time()``이 돌려준 실수 값을 사용해서 연도, 월, 일, 시, 분, 초, ... 의 형태로 바꾸어 주는 함수\n",
    "    \n",
    "    \n",
    "    \n",
    "- ``time.strftime``('출력할 형식 포맷 코드', ``time.localtime(time.time())``) - string from time\n",
    "\n",
    "```\n",
    "%x  날짜를 출력, 현재 시간대 기준\n",
    "%c  날짜, 요일, 시간을 출력, 현재 시간대 기준\n",
    "%Y  네 자릿수 연도\n",
    "%m  숫자 월\n",
    "%d  일\n",
    "%H  시간(24시간)\n",
    "%M  분\n",
    "%S  초\n",
    "%z  시간대\n",
    "%a  요일 줄임말\n",
    "%A  요일\n",
    "%b  월 줄임말\n",
    "%B  월\n",
    "%I  시간(12시간)\n",
    "%p  AM, PM\n",
    "```"
   ]
  },
  {
   "cell_type": "markdown",
   "metadata": {},
   "source": [
    "## random\n",
    "\n",
    "- random은 난수(규칙이 없는 임의의 수)를 발생시키는 모듈이다"
   ]
  },
  {
   "cell_type": "markdown",
   "metadata": {},
   "source": [
    "## Pillow\n",
    "\n",
    "- ``PIL(Python Image Library)`` 은 ``Pillow`` 의 old name  \n",
    "\n",
    "\n",
    "    - 설치는 pip install pillow  \n",
    "    - 사용은 import PIL"
   ]
  },
  {
   "cell_type": "markdown",
   "metadata": {},
   "source": [
    "### image 를 읽어서 display \n",
    "\n",
    "- ``Image.open()`` : image file open\n",
    "    \n",
    "\n",
    "- internet 상의 image 는 byte code 로 전송되므로 ``BytesIO`` 를 이용하여 binary 로 변환  "
   ]
  },
  {
   "cell_type": "markdown",
   "metadata": {},
   "source": [
    "### PIL 에 사전 정의된 Image Filter 를 이용하여 image 변환 \n",
    "\n",
    "- ImageFilter.BLUR   \n",
    "- CONTOUR  \n",
    "- DETAIL  \n",
    "- EDGE_ENHANCE  \n",
    "- EDGE_ENHANCE_MORE  \n",
    "- EMBOSS  \n",
    "- FIND_EDGES  \n",
    "- SHARPEN  \n",
    "- SMOOTH  \n",
    "- SMOOTH_MORE  "
   ]
  },
  {
   "cell_type": "markdown",
   "metadata": {},
   "source": [
    "### image 회전"
   ]
  },
  {
   "cell_type": "markdown",
   "metadata": {},
   "source": [
    "### PIL 을 이용한 image 자르기\n",
    "\n",
    "```img.crop((left, upper, right, lower))```  - left/upper corner, right/lower corner  "
   ]
  },
  {
   "cell_type": "markdown",
   "metadata": {},
   "source": [
    "### image save  "
   ]
  },
  {
   "cell_type": "markdown",
   "metadata": {},
   "source": [
    "# Python 을 이용하여 zipfile handling 하는 방법\n",
    "\n",
    "### zipfile\n",
    "- zip archive object 를 생성하고 개별 file 을 add\n",
    "\n",
    "### shutl\n",
    "- 전체 directory 를 빠르게 compress"
   ]
  },
  {
   "cell_type": "markdown",
   "metadata": {},
   "source": [
    "## Extract from zipfile"
   ]
  },
  {
   "cell_type": "markdown",
   "metadata": {},
   "source": [
    "## shutil Library"
   ]
  }
 ],
 "metadata": {
  "kernelspec": {
   "display_name": "Python 3",
   "language": "python",
   "name": "python3"
  },
  "language_info": {
   "codemirror_mode": {
    "name": "ipython",
    "version": 3
   },
   "file_extension": ".py",
   "mimetype": "text/x-python",
   "name": "python",
   "nbconvert_exporter": "python",
   "pygments_lexer": "ipython3",
   "version": "3.7.3"
  }
 },
 "nbformat": 4,
 "nbformat_minor": 4
}
