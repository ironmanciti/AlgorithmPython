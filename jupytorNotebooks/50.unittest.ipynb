{
 "cells": [
  {
   "cell_type": "markdown",
   "id": "958c9e4b",
   "metadata": {},
   "source": [
    "# 50. unittest - 단위테스트\n",
    "\n",
    "- Python 에 포함된 다양한 test를 자동화 할 수 있는 기능이 포함된 표준 라이브러리  \n",
    "\n",
    "- 유닛테스트 코드를 작성하기 위해서는 다음과 같은 절차를 따른다.\n",
    "\n",
    "    1. import unittest\n",
    "    2. unittest.TestCase로 부터 파생된 사용자 테스트 클래스를 만든다.\n",
    "    3. 테스트 클래스 안에 \"test\"로 시작하는 테스트 메서드를 생성한다. \n",
    "        테스트 메서드에서는 일반적으로 테스트하고자 하는 함수나 메서드를 호출하고\n",
    "        그 결과값을 self.assert*() 메서드를 사용하여 확인한다.  \n",
    "    4. 테스트 클래스가 완성되면, unittest.main()을 호출하여 테스트를 실행\n",
    "\n",
    "\n",
    "- unittest에 포함된 주요 개념  \n",
    "\n",
    "\n",
    "  - TestCase : unittest framework의 테스트 조직의 기본 단위  \n",
    "  \n",
    "  \n",
    "  - Fixture \n",
    "    - 테스트 함수의 전 또는 후에 실행\n",
    "    - 테스트가 실행되기 전에 테스트 환경이 예상된 상태에 있는지 확인  \n",
    "    - 테스트 전에 database table을 만들거나 테스트 후에 resouce 정리에 사용  \n",
    "    \n",
    "\n",
    "  - assertion\n",
    "    - unittest가 테스트에 통과하는지 실패하는지 결정 \n",
    "    - bool test, 객체의 적합성, 적절한 예외 발생 여부등 점검 가능 \n",
    "    - assertion이 fail하면 함수가 fail\n",
    "    - assertEqual, assertTure, assertFalse, assertRaises 등"
   ]
  },
  {
   "cell_type": "markdown",
   "id": "519ef3da",
   "metadata": {},
   "source": [
    "## Test case 작성\n",
    "\n",
    "- setUp() : Fixture. Test 전 수행  \n",
    "- tearDown() : Fixture. Test 후 수행  \n",
    "- `test_` 라는 이름으로 시작하는 모든 method 가 실행"
   ]
  },
  {
   "cell_type": "code",
   "execution_count": 32,
   "id": "bbedb896",
   "metadata": {},
   "outputs": [
    {
     "name": "stdout",
     "output_type": "stream",
     "text": [
      "Overwriting unit_test.py\n"
     ]
    }
   ],
   "source": [
    "%%writefile unit_test.py\n",
    "\n",
    "import unittest\n",
    "import os\n",
    "\n",
    "# \n",
    "def custom_function(file_name):\n",
    "    with open(file_name, 'r') as f:\n",
    "        return sum(1 for _ in f)\n",
    "\n",
    "#unittest.TestCase를 상속한 사용자 class 선언\n",
    "class CustomTests(unittest.TestCase):\n",
    "    \n",
    "    def setUp(self):\n",
    "        print(\"setUP 수행. 사전 설정 필요한 test 환경 설정\")\n",
    "        \n",
    "        self.file_name = 'unit_test_file.txt'\n",
    "        with open(self.file_name, 'w') as f:\n",
    "            f.write(\"\"\"\n",
    "                setUp() 은 Fixture 입니다.\n",
    "                Test 수행 전에 수행됩니다.\n",
    "            \"\"\".strip())\n",
    "            \n",
    "    def tearDown(self):\n",
    "        print(\"tearDown 수행. test 후 필요 없어진 환경 정리\")        \n",
    "        try:\n",
    "            os.remove(self.file_name)\n",
    "        except:\n",
    "            pass\n",
    "    \n",
    "    def test_run(self):\n",
    "        custom_function(self.file_name)\n",
    "        \n",
    "    def test_line_count(self):\n",
    "#         self.assertEqual(custom_function(self.file_name), 2)\n",
    "        self.assertEqual(custom_function(self.file_name), 3)\n",
    "        \n",
    "if __name__ == '__main__':\n",
    "    unittest.main()"
   ]
  },
  {
   "cell_type": "code",
   "execution_count": 33,
   "id": "94bf474e",
   "metadata": {},
   "outputs": [
    {
     "name": "stderr",
     "output_type": "stream",
     "text": [
      "F."
     ]
    },
    {
     "name": "stdout",
     "output_type": "stream",
     "text": [
      "setUP 수행. 사전 설정 필요한 test 환경 설정\n",
      "tearDown 수행. test 후 필요 없어진 환경 정리\n",
      "setUP 수행. 사전 설정 필요한 test 환경 설정\n",
      "tearDown 수행. test 후 필요 없어진 환경 정리\n"
     ]
    },
    {
     "name": "stderr",
     "output_type": "stream",
     "text": [
      "\n",
      "======================================================================\n",
      "FAIL: test_line_count (__main__.CustomTests)\n",
      "----------------------------------------------------------------------\n",
      "Traceback (most recent call last):\n",
      "  File \"C:\\Users\\trimu\\OneDrive\\AlgorithmPython-2021\\jupytorNotebooks\\unit_test.py\", line 35, in test_line_count\n",
      "    self.assertEqual(custom_function(self.file_name), 3)\n",
      "AssertionError: 2 != 3\n",
      "\n",
      "----------------------------------------------------------------------\n",
      "Ran 2 tests in 0.012s\n",
      "\n",
      "FAILED (failures=1)\n"
     ]
    },
    {
     "ename": "SystemExit",
     "evalue": "True",
     "output_type": "error",
     "traceback": [
      "An exception has occurred, use %tb to see the full traceback.\n",
      "\u001b[1;31mSystemExit\u001b[0m\u001b[1;31m:\u001b[0m True\n"
     ]
    }
   ],
   "source": [
    "%run unit_test.py"
   ]
  },
  {
   "cell_type": "markdown",
   "id": "8fcf33ed",
   "metadata": {},
   "source": [
    "## various assert methods"
   ]
  },
  {
   "cell_type": "code",
   "execution_count": 34,
   "id": "5c746154",
   "metadata": {},
   "outputs": [
    {
     "name": "stdout",
     "output_type": "stream",
     "text": [
      "Overwriting unit_test.py\n"
     ]
    }
   ],
   "source": [
    "%%writefile unit_test.py\n",
    "\n",
    "import unittest\n",
    "import os\n",
    "\n",
    "class VariousAsserts(unittest.TestCase):\n",
    "        \n",
    "    def test_asserts(self):\n",
    "        a = 100\n",
    "        b = 200\n",
    "#         self.assertEqual(a, b)   # a == b\n",
    "        self.assertNotEqual(a, b)  # a!= b\n",
    "        \n",
    "        #self.asertTrue(a == b)  # True\n",
    "        self.assertFalse(a == b) # False\n",
    "        \n",
    "        #self.assertIs(a, b)\n",
    "        self.assertIsNot(a, b)\n",
    "        \n",
    "        #self.assertIsNone(a)\n",
    "        self.assertIsNotNone(a)\n",
    "        \n",
    "        #self.assertNotIsInstance(a, int) #isinstance(a, int)\n",
    "        self.assertIsInstance(a, int)     #notisinstance(a, int)\n",
    "        \n",
    "        #self.assertGreater(a, b)   # a > b\n",
    "        self.assertLess(a, b)       # a < b\n",
    "        \n",
    "        \n",
    "if __name__ == '__main__':\n",
    "    unittest.main()"
   ]
  },
  {
   "cell_type": "code",
   "execution_count": 36,
   "id": "1bc5c6ca",
   "metadata": {},
   "outputs": [
    {
     "name": "stderr",
     "output_type": "stream",
     "text": [
      ".\n",
      "----------------------------------------------------------------------\n",
      "Ran 1 test in 0.002s\n",
      "\n",
      "OK\n"
     ]
    }
   ],
   "source": [
    "%run unit_test.py"
   ]
  },
  {
   "cell_type": "code",
   "execution_count": null,
   "id": "67946a5c",
   "metadata": {},
   "outputs": [],
   "source": []
  }
 ],
 "metadata": {
  "kernelspec": {
   "display_name": "Python 3",
   "language": "python",
   "name": "python3"
  },
  "language_info": {
   "codemirror_mode": {
    "name": "ipython",
    "version": 3
   },
   "file_extension": ".py",
   "mimetype": "text/x-python",
   "name": "python",
   "nbconvert_exporter": "python",
   "pygments_lexer": "ipython3",
   "version": "3.7.3"
  }
 },
 "nbformat": 4,
 "nbformat_minor": 5
}
