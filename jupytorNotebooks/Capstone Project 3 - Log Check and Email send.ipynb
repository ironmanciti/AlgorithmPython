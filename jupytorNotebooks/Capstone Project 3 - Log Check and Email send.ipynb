{
 "cells": [
  {
   "cell_type": "markdown",
   "metadata": {},
   "source": [
    "# Gmail SMTP server를 이용하여 자동 email 보내기\n",
    "\n",
    "- [Gmail SMTP 비밀번호 설정 방법](\n",
    "https://velog.io/@max9106/Spring-Boot-Gmail-SMTP-%EC%82%AC%EC%9A%A9%ED%95%98%EA%B8%B0%EB%A9%94%EC%9D%BC%EB%B3%B4%EB%82%B4%EA%B8%B0)\n",
    "\n",
    "- 안내에 따라 비밀번호 생성한 후 password.txt file 로 저장"
   ]
  },
  {
   "cell_type": "code",
   "execution_count": 32,
   "metadata": {},
   "outputs": [
    {
     "data": {
      "text/plain": [
       "datetime.datetime(2021, 12, 5, 10, 46, 9, 403783)"
      ]
     },
     "execution_count": 32,
     "metadata": {},
     "output_type": "execute_result"
    }
   ],
   "source": [
    "import datetime\n",
    "import time\n",
    "import re\n",
    "import pandas as pd\n",
    "\n",
    "now = datetime.datetime.now()\n",
    "now"
   ]
  },
  {
   "cell_type": "markdown",
   "metadata": {},
   "source": [
    "### email 보내기 함수"
   ]
  },
  {
   "cell_type": "code",
   "execution_count": 33,
   "metadata": {},
   "outputs": [],
   "source": [
    "def send_email(ip):\n",
    "    import smtplib, ssl\n",
    "    from email.mime.text import MIMEText\n",
    "\n",
    "    port = 465  # For SSL\n",
    "    smtp_server = \"smtp.gmail.com\"\n",
    "    sender_email = \"ironmanciti@gmail.com\"  # Enter your address\n",
    "    receiver_email = \"trimurti@naver.com\"  # Enter receiver address\n",
    "    with open(\"password.txt\", \"r\") as pswd:\n",
    "        password = pswd.read()\n",
    "\n",
    "    msg = MIMEText(ip + ' 에서 message가 왔습니다.')\n",
    "    msg['Subject'] = '메시지 수신'\n",
    "    msg['From'] = receiver_email\n",
    "    msg['To'] = receiver_email\n",
    "\n",
    "    context = ssl.create_default_context()\n",
    "    with smtplib.SMTP_SSL(smtp_server, port, context=context) as server:\n",
    "        server.login(sender_email, password)\n",
    "        server.sendmail(sender_email, receiver_email, msg.as_string())   \n",
    "        server.quit()"
   ]
  },
  {
   "cell_type": "code",
   "execution_count": 34,
   "metadata": {},
   "outputs": [],
   "source": [
    "already_sent = []"
   ]
  },
  {
   "cell_type": "markdown",
   "metadata": {},
   "source": [
    "주기적으로 email log 를 check 하여 새로운 ip 에서 email 이 수신 되면 자동 email 발송"
   ]
  },
  {
   "cell_type": "code",
   "execution_count": 35,
   "metadata": {},
   "outputs": [],
   "source": [
    "def log_check():\n",
    "    f = open('emailbox-short.txt', 'r')\n",
    "\n",
    "    for line in f:\n",
    "        result = '';\n",
    "        if line.startswith('Received: from'):\n",
    "            result = re.search('\\d+.\\d+.\\d+', line)\n",
    "            \n",
    "        if result:\n",
    "            ip = result.group()\n",
    "            if ip not in already_sent:\n",
    "                print(\"email sent...\")\n",
    "                send_email(ip)\n",
    "                already_sent.append(ip)\n",
    "                break"
   ]
  },
  {
   "cell_type": "markdown",
   "metadata": {},
   "source": [
    "5 초마다 log check"
   ]
  },
  {
   "cell_type": "code",
   "execution_count": 36,
   "metadata": {},
   "outputs": [
    {
     "name": "stdout",
     "output_type": "stream",
     "text": [
      "log checked at  2021-12-05 10:46:09.403783\n",
      "email sent...\n",
      "log checked at  2021-12-05 10:46:09.403783\n",
      "email sent...\n",
      "log checked at  2021-12-05 10:46:09.403783\n",
      "email sent...\n",
      "log checked at  2021-12-05 10:46:09.403783\n",
      "email sent...\n",
      "log checked at  2021-12-05 10:46:09.403783\n",
      "email sent...\n"
     ]
    },
    {
     "ename": "KeyboardInterrupt",
     "evalue": "",
     "output_type": "error",
     "traceback": [
      "\u001b[1;31m---------------------------------------------------------------------------\u001b[0m",
      "\u001b[1;31mKeyboardInterrupt\u001b[0m                         Traceback (most recent call last)",
      "\u001b[1;32m<ipython-input-36-3fa16b453413>\u001b[0m in \u001b[0;36m<module>\u001b[1;34m\u001b[0m\n\u001b[0;32m      2\u001b[0m     \u001b[0mprint\u001b[0m\u001b[1;33m(\u001b[0m\u001b[1;34m\"log checked at \"\u001b[0m\u001b[1;33m,\u001b[0m \u001b[0mnow\u001b[0m\u001b[1;33m)\u001b[0m\u001b[1;33m\u001b[0m\u001b[1;33m\u001b[0m\u001b[0m\n\u001b[0;32m      3\u001b[0m     \u001b[0mlog_check\u001b[0m\u001b[1;33m(\u001b[0m\u001b[1;33m)\u001b[0m\u001b[1;33m\u001b[0m\u001b[1;33m\u001b[0m\u001b[0m\n\u001b[1;32m----> 4\u001b[1;33m     \u001b[0mtime\u001b[0m\u001b[1;33m.\u001b[0m\u001b[0msleep\u001b[0m\u001b[1;33m(\u001b[0m\u001b[1;36m5\u001b[0m\u001b[1;33m)\u001b[0m\u001b[1;33m\u001b[0m\u001b[1;33m\u001b[0m\u001b[0m\n\u001b[0m",
      "\u001b[1;31mKeyboardInterrupt\u001b[0m: "
     ]
    }
   ],
   "source": [
    "while True:\n",
    "    print(\"log checked at \", now)\n",
    "    log_check()\n",
    "    time.sleep(5)"
   ]
  },
  {
   "cell_type": "code",
   "execution_count": null,
   "metadata": {},
   "outputs": [],
   "source": []
  }
 ],
 "metadata": {
  "kernelspec": {
   "display_name": "Python 3",
   "language": "python",
   "name": "python3"
  },
  "language_info": {
   "codemirror_mode": {
    "name": "ipython",
    "version": 3
   },
   "file_extension": ".py",
   "mimetype": "text/x-python",
   "name": "python",
   "nbconvert_exporter": "python",
   "pygments_lexer": "ipython3",
   "version": "3.7.4"
  }
 },
 "nbformat": 4,
 "nbformat_minor": 2
}
