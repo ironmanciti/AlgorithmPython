{
 "cells": [
  {
   "cell_type": "markdown",
   "id": "incredible-slovakia",
   "metadata": {},
   "source": [
    "# 55. Factory Method \n",
    "\n",
    "- Factory Method는 공통 인터페이스의 구현에 사용되는 생성 디자인 패턴(creational design pattern)입니다.  \n",
    "\n",
    "\n",
    "- Factory Method는 객체의 인터페이스에 의존하는 코드에서 객체를 생성하는 프로세스를 분리합니다.  \n",
    "\n",
    "\n",
    "- Factory Method Design Pattern의 주요 동기는 몇 가지 공통 속성과 기능을 공유하는 다양한 유형의 객체를 생성하는 데 사용되는 추상 클래스 생성을 통해 코드의 느슨한 결합을 향상시키는 것입니다. 그 결과 공유 기능이 동일한 클래스에서 상속된 후 다시 작성되지 않기 때문에 유연성과 코드 재사용이 증가합니다.\n",
    "\n",
    "\n",
    "* 생성 디자인 패턴(creational design pattern)\n",
    "\n",
    "    - 생성 패턴은 시스템이 어떤 구체적 클래스를 사용하는지에 대한 정보를 캡슐화.\n",
    "\n",
    "    - 생성 패턴은 이들 클래스의 인스턴스들이 어떻게 만들고 어떻게 서로 연결되는지에 대한 부분을 완전히 가려줌."
   ]
  },
  {
   "cell_type": "code",
   "execution_count": 1,
   "id": "internal-interest",
   "metadata": {},
   "outputs": [],
   "source": [
    "class Rectangle():\n",
    "    def __init__(self, height, width):\n",
    "        self.height = height\n",
    "        self.width = width\n",
    "\n",
    "    def calculate_area(self):\n",
    "        return self.height * self.width \n",
    "\n",
    "    def calculate_perimeter(self):\n",
    "        return 2 * (self.height + self.width) \n",
    "\n",
    "class Square():\n",
    "    def __init__(self, width):\n",
    "        self.width = width\n",
    "\n",
    "    def calculate_area(self):\n",
    "        return self.width ** 2\n",
    "\n",
    "    def calculate_perimeter(self):\n",
    "        return 4 * self.width\n",
    "\n",
    "class Circle():\n",
    "    def __init__(self, radius):\n",
    "        self.radius = radius\n",
    "\n",
    "    def calculate_area(self):\n",
    "        return 3.14 * self.radius * self.radius\n",
    "\n",
    "    def calculate_perimeter(self):\n",
    "        return 2 * 3.14 * self.radius"
   ]
  },
  {
   "cell_type": "markdown",
   "id": "attractive-haven",
   "metadata": {},
   "source": [
    "## Example without Factory Method"
   ]
  },
  {
   "cell_type": "code",
   "execution_count": 2,
   "id": "frequent-magic",
   "metadata": {},
   "outputs": [
    {
     "name": "stdout",
     "output_type": "stream",
     "text": [
      "Enter the name of the shape: circle\n",
      "The type of shape: circle\n",
      "Enter the radius of the circle: 10\n",
      "The area of the circle is: 314.0\n",
      "The perimeter of the circle is: 62.800000000000004\n"
     ]
    }
   ],
   "source": [
    "shape_name = input(\"Enter the name of the shape: \")\n",
    "print(f\"The type of shape: {shape_name}\")\n",
    "\n",
    "if shape_name == 'circle':\n",
    "    radius = input(\"Enter the radius of the circle: \")\n",
    "    circle = Circle(float(radius))\n",
    "    area = circle.calculate_area()\n",
    "    perimeter = circle.calculate_perimeter()\n",
    "elif shape_name == 'rectangle':\n",
    "    height = input(\"Enter the height of the rectangle: \")\n",
    "    width = input(\"Enter the width of the rectangle: \")\n",
    "    rect = Rectangle(float(height), float(width))\n",
    "    area = rect.calculate_area()\n",
    "    perimeter = rect.calculate_perimeter()\n",
    "elif shape_name == 'square':\n",
    "    width = input(\"Enter the width of the rectangle: \")\n",
    "    square = Square(float(width))\n",
    "    area = square.calculate_area()\n",
    "    perimeter = square.calculate_perimeter()\n",
    "    \n",
    "print(f\"The area of the {shape_name} is: {area}\")\n",
    "print(f\"The perimeter of the {shape_name} is: {perimeter}\")"
   ]
  },
  {
   "cell_type": "markdown",
   "id": "closing-williams",
   "metadata": {},
   "source": [
    "## Factory Method 로 구현\n",
    "\n",
    "- if/elif/else 를 factory method 로 추상화"
   ]
  },
  {
   "cell_type": "code",
   "execution_count": 3,
   "id": "ordered-postage",
   "metadata": {},
   "outputs": [],
   "source": [
    "class ShapeFactory:\n",
    "    def create_shape(self, name):\n",
    "        if name == 'circle':\n",
    "            radius = input(\"Enter the radius of the circle: \")\n",
    "            return Circle(float(radius))\n",
    "\n",
    "        elif name == 'rectangle':\n",
    "            height = input(\"Enter the height of the rectangle: \")\n",
    "            width = input(\"Enter the width of the rectangle: \")\n",
    "            return Rectangle(int(height), int(width))\n",
    "\n",
    "        elif name == 'square':\n",
    "            width = input(\"Enter the width of the square: \")\n",
    "            return Square(int(width))"
   ]
  },
  {
   "cell_type": "code",
   "execution_count": 5,
   "id": "hollywood-acquisition",
   "metadata": {},
   "outputs": [
    {
     "name": "stdout",
     "output_type": "stream",
     "text": [
      "Enter the name of the shape: circle\n",
      "The type of object created: <class 'str'>\n",
      "Enter the radius of the circle: 10\n",
      "The area of the circle is: 314.0\n",
      "The perimeter of the circle is: 62.800000000000004\n"
     ]
    }
   ],
   "source": [
    "shape_factory = ShapeFactory()\n",
    "shape_name = input(\"Enter the name of the shape: \")\n",
    "print(f\"The type of object created: {type(shape_name)}\")\n",
    "\n",
    "shape = shape_factory.create_shape(shape_name)\n",
    "\n",
    "print(f\"The area of the {shape_name} is: {shape.calculate_area()}\")\n",
    "print(f\"The perimeter of the {shape_name} is: {shape.calculate_perimeter()}\")"
   ]
  }
 ],
 "metadata": {
  "kernelspec": {
   "display_name": "Python 3 (ipykernel)",
   "language": "python",
   "name": "python3"
  },
  "language_info": {
   "codemirror_mode": {
    "name": "ipython",
    "version": 3
   },
   "file_extension": ".py",
   "mimetype": "text/x-python",
   "name": "python",
   "nbconvert_exporter": "python",
   "pygments_lexer": "ipython3",
   "version": "3.9.5"
  }
 },
 "nbformat": 4,
 "nbformat_minor": 5
}
