{
 "cells": [
  {
   "cell_type": "markdown",
   "metadata": {},
   "source": [
    "# Capstone Project 2. 정렬 (Sorting)\n",
    "\n",
    "### 1. Bubble Sort\n",
    "\n",
    "- list 를 처음부터 끝까지 반복 처리하며 인접 item 과 비교하여 위치 교환. \n",
    "\n",
    "\n",
    "- 매 iteration 마다 가장 큰 숫자가 마지막 element 위치로 이동함.\n",
    "\n",
    "\n",
    "- $O(n^2)$ 의 시간복잡도 (time complexity) 를 가진다.\n",
    "\n",
    "<img src=\"bubblesort.png\" width=\"600\">"
   ]
  },
  {
   "cell_type": "code",
   "execution_count": 1,
   "metadata": {},
   "outputs": [],
   "source": [
    "def bubble_sort(arr):\n",
    "    for i in range(len(arr)):\n",
    "        for j in range(len(arr)-1-i):    # j 와 j+1 을 비교하므로 -1 을 해 준다.\n",
    "            if arr[j] > arr[j+1]:           # compare and swap\n",
    "                arr[j], arr[j+1] = arr[j+1], arr[j]\n",
    "    return arr"
   ]
  },
  {
   "cell_type": "code",
   "execution_count": 2,
   "metadata": {},
   "outputs": [
    {
     "name": "stdout",
     "output_type": "stream",
     "text": [
      "73.2 ms ± 799 µs per loop (mean ± std. dev. of 7 runs, 10 loops each)\n"
     ]
    }
   ],
   "source": [
    "import random\n",
    "\n",
    "%timeit bubble_sort([random.randrange(1, 10000) for _ in range(1000)])"
   ]
  },
  {
   "cell_type": "markdown",
   "metadata": {},
   "source": [
    "### 2. Selection Sort (선택정렬)\n",
    "\n",
    "- bubble sort algorithm 을 개선. 뒤에서부터 index 위치를 거꾸로 내려가며 maxIndex 를 찾아서 한번만 swap 한다. \n",
    "\n",
    "\n",
    "- $O(n^2)$ 이지만 실질적으로는 bubble sort 보다 빠르다.\n",
    "\n",
    "<img src=\"selectionsort.png\" width=\"400\">"
   ]
  },
  {
   "cell_type": "code",
   "execution_count": 3,
   "metadata": {},
   "outputs": [],
   "source": [
    "def selSort(arr):\n",
    "    for i in range(len(arr)-1, 0, -1):\n",
    "        maxIndex = 0\n",
    "        # i 가 len(arr)-1 부터 시작하므로 +1 을 해주어야 마지막 element 포함\n",
    "        for j in range(i+1):               \n",
    "            if arr[j] > arr[maxIndex]:\n",
    "                maxIndex = j\n",
    "        arr[i], arr[maxIndex] = arr[maxIndex], arr[i]\n",
    "    return arr"
   ]
  },
  {
   "cell_type": "code",
   "execution_count": 4,
   "metadata": {},
   "outputs": [
    {
     "name": "stdout",
     "output_type": "stream",
     "text": [
      "32.5 ms ± 496 µs per loop (mean ± std. dev. of 7 runs, 10 loops each)\n"
     ]
    }
   ],
   "source": [
    "%timeit selSort([random.randrange(1, 10000) for _ in range(1000)])"
   ]
  },
  {
   "cell_type": "markdown",
   "metadata": {},
   "source": [
    "### 3. MergeSort (병합정렬)\n",
    "\n",
    "- Divide and Conquer (분할정복) 재귀 알고리즘 \n",
    "\n",
    "\n",
    "- Divide and Conquer 알고리즘의 3 step \n",
    "    1. 문제를 같은 type 의 문제를 가지는 더 작은 sub-problem 으로 분할한다.\n",
    "    2. sub-problem 을 재귀적 (recursive) 으로 해결한다 (conquer).\n",
    "    3. 결과를 recombine (merge) 한다.\n",
    "    \n",
    "\n",
    "- list 의 가운데를 기준으로 좌측 list 와 우측 list 로 분할  \n",
    "\n",
    "\n",
    "- element 가 하나가 될 때까지 list 를 분할 후 좌측과 우측 list element 의 크기를 비교하여 단일 list 로 merge\n",
    "    \n",
    "\n",
    "- 시간복잡도는 O(nLog(n))\n",
    "\n",
    "<img src=\"MergeSort.png\" width=\"400\">"
   ]
  },
  {
   "cell_type": "code",
   "execution_count": 5,
   "metadata": {},
   "outputs": [],
   "source": [
    "def mergeSort(arr):\n",
    "    if len(arr) == 1:       # element 가 하나인 list\n",
    "        return arr\n",
    "    \n",
    "    a = arr[:int(len(arr)/2)]        # 좌측 절반\n",
    "    b = arr[int(len(arr)/2):]        # 우측 절반\n",
    "    \n",
    "    # c 를 return 하므로 이미 sort 된 list 가 return 됨\n",
    "    a = mergeSort(a)                 \n",
    "    b = mergeSort(b)\n",
    "    \n",
    "    c = []\n",
    "    i = 0\n",
    "    j = 0\n",
    "    \n",
    "    # sort 되어 있는 두 개의 list 를 c 로 merge \n",
    "    # (ex) a - [10, 30, 50, 70],  b - [20, 40, 60] \n",
    "    while i < len(a) and j < len(b):        \n",
    "        if a[i] < b[j]:\n",
    "            c.append(a[i])\n",
    "            i += 1\n",
    "        else:\n",
    "            c.append(b[j])\n",
    "            j += 1\n",
    "      \n",
    "    # a, b 가 이미 sort 된 상태이므로 단순히 bulk 로 c 에 concatenate \n",
    "    c += a[i:]         \n",
    "    c += b[j:]\n",
    "    return c            # sort 된 list return"
   ]
  },
  {
   "cell_type": "code",
   "execution_count": 6,
   "metadata": {},
   "outputs": [
    {
     "name": "stdout",
     "output_type": "stream",
     "text": [
      "4.08 ms ± 55 µs per loop (mean ± std. dev. of 7 runs, 100 loops each)\n"
     ]
    }
   ],
   "source": [
    "%timeit mergeSort([random.randrange(1, 10000) for _ in range(1000)])"
   ]
  },
  {
   "cell_type": "markdown",
   "metadata": {},
   "source": [
    "### 4. Quick Sort (퀵정렬)\n",
    "\n",
    "- Divide and Conquer (분할정복) 재귀 알고리즘 \n",
    "\n",
    "\n",
    "- list 의 첫번째(혹은 마지막) element 값을 pivit 으로 정하고, 그 보다 작은 sub-list 와 그 보다 큰 sub-list 로 나눈다.\n",
    "\n",
    "\n",
    "- 각 sub-list 를 남은 원소 갯수가 0 이나 1 이 될 때까지 재귀적으로 나누어 간다. \n",
    "\n",
    "\n",
    "- 더 이상 나눌 수 없으면 최종 sub-list 를 return 하고 상위 list 에 merge 하여 전체 list 를 연결한다.\n",
    "\n",
    "\n",
    "- 시간복잡도는 O(nLog(n))\n",
    "\n",
    "\n",
    "- merge sort 보다 memory 를 적게 사용한다. 단, list 가 반으로 나누어지지 않으면 performance 가 나빠질 수 있다.\n",
    "\n",
    "\n",
    "<img src=\"quicksort.png\" width=\"400\">"
   ]
  },
  {
   "cell_type": "code",
   "execution_count": 7,
   "metadata": {},
   "outputs": [],
   "source": [
    "def qsort(qlist):\n",
    "    lower = []\n",
    "    higher = []\n",
    "    sorted_list = []\n",
    "    \n",
    "    if len(qlist) < 1:\n",
    "        return           # None returned\n",
    "    \n",
    "    center = qlist[0]                       # 첫번째 element 를 pivot 으로 정함\n",
    "    \n",
    "    for element in qlist[1:]:    # pivot 보다 작으면 lower 에 크면 higher 에 append\n",
    "        if element <= center:\n",
    "            lower.append(element)\n",
    "        else:\n",
    "            higher.append(element)\n",
    "            \n",
    "    lower = qsort(lower)                 # 재귀 호출\n",
    "    \n",
    "    # 이미 sort 된 lower 부분이 return 되므로 단순히 concatenate        \n",
    "    if  lower != None:                     \n",
    "        sorted_list += lower\n",
    "        \n",
    "    sorted_list.append(center)         # pivot (중간) element 를 append\n",
    "    \n",
    "    # 이미 sort 된 higher 부분이 return 되므로 단순히 concatenate\n",
    "    higher = qsort(higher)              \n",
    "    if  higher  != None:\n",
    "        sorted_list += higher \n",
    "\n",
    "    return sorted_list                      # concatenate 된 list 반환"
   ]
  },
  {
   "cell_type": "code",
   "execution_count": 8,
   "metadata": {},
   "outputs": [
    {
     "name": "stdout",
     "output_type": "stream",
     "text": [
      "2.46 ms ± 79.4 µs per loop (mean ± std. dev. of 7 runs, 100 loops each)\n"
     ]
    }
   ],
   "source": [
    "%timeit qsort([random.randrange(1, 10000) for _ in range(1000)])"
   ]
  },
  {
   "cell_type": "markdown",
   "metadata": {},
   "source": [
    "## 연습문제\n",
    "\n",
    "- 정렬할 list 의 마지막 element 를 pivot 으로 정하는 quick sort 함수 작성"
   ]
  },
  {
   "cell_type": "code",
   "execution_count": 9,
   "metadata": {},
   "outputs": [],
   "source": [
    "def qsort(qlist):\n",
    "   \n",
    "    #CODE HERE\n",
    "\n",
    "    return sorted_list                      # concatenate 된 list 반환"
   ]
  }
 ],
 "metadata": {
  "kernelspec": {
   "display_name": "Python 3",
   "language": "python",
   "name": "python3"
  },
  "language_info": {
   "codemirror_mode": {
    "name": "ipython",
    "version": 3
   },
   "file_extension": ".py",
   "mimetype": "text/x-python",
   "name": "python",
   "nbconvert_exporter": "python",
   "pygments_lexer": "ipython3",
   "version": "3.7.10"
  }
 },
 "nbformat": 4,
 "nbformat_minor": 2
}
