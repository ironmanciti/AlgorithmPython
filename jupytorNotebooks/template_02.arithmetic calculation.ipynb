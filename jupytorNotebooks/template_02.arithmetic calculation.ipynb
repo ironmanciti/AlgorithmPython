{
 "cells": [
  {
   "cell_type": "markdown",
   "metadata": {},
   "source": [
    "# 2. 사칙 연산 \n",
    "\n",
    "### 파이썬의 사칙 연산 규칙은 일반 수학 연산 규칙과 동일\n",
    "\n",
    "$$30 - (10 + 20) * 3 + \\frac{100}{2^2}$$\n",
    "\n",
    "### 변수를 이용한 연산도 동일한 규칙을 따른다\n",
    "\n",
    "    +, - : 더하기, 빼기\n",
    "\n",
    "    /, // : 나누기 (소숫점 포함, 몫구하기)\n",
    "    \n",
    "    % : 나머지\n",
    "    \n",
    "    $*$ : 곱하기\n",
    "    \n",
    "    $**$ : 거듭제곱\n",
    "    \n",
    "    ( ) 안의 계산을 먼저한다\n"
   ]
  },
  {
   "cell_type": "markdown",
   "metadata": {},
   "source": [
    "### cascading assignment (계단식 할당)"
   ]
  },
  {
   "cell_type": "markdown",
   "metadata": {},
   "source": [
    "### value swapping"
   ]
  },
  {
   "cell_type": "markdown",
   "metadata": {},
   "source": [
    "### exponential"
   ]
  },
  {
   "cell_type": "markdown",
   "metadata": {},
   "source": [
    "### 나눗셈\n",
    "\n",
    "**floor division**"
   ]
  },
  {
   "cell_type": "markdown",
   "metadata": {},
   "source": [
    "**modulo (나머지)**"
   ]
  },
  {
   "cell_type": "markdown",
   "metadata": {},
   "source": [
    "### +=, -=, *=, /=, %= : augmented assignment"
   ]
  },
  {
   "cell_type": "markdown",
   "metadata": {},
   "source": [
    "### print 함수 내의 연산"
   ]
  },
  {
   "cell_type": "markdown",
   "metadata": {},
   "source": [
    "영어권 국가에서는 일반적으로 쉼표가 천 단위 구분 기호로 사용되는 반면 다른 많은 국가에서는 마침표가 천 단위 구분 기호로 사용됩니다. 쉼표와 마침표가 파이썬에서 다른 것에 사용된다는 사실을 감안할 때 밑줄을 구분 기호로 사용하기로 결정했습니다. (from version 3.6)"
   ]
  }
 ],
 "metadata": {
  "kernelspec": {
   "display_name": "Python 3",
   "language": "python",
   "name": "python3"
  },
  "language_info": {
   "codemirror_mode": {
    "name": "ipython",
    "version": 3
   },
   "file_extension": ".py",
   "mimetype": "text/x-python",
   "name": "python",
   "nbconvert_exporter": "python",
   "pygments_lexer": "ipython3",
   "version": "3.7.4"
  }
 },
 "nbformat": 4,
 "nbformat_minor": 2
}
