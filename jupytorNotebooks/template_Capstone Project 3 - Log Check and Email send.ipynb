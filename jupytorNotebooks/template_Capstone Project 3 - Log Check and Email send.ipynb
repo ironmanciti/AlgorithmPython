{
 "cells": [
  {
   "cell_type": "markdown",
   "metadata": {},
   "source": [
    "# Gmail SMTP server를 이용하여 자동 email 보내기\n",
    "\n",
    "- [Gmail SMTP 비밀번호 설정 방법](\n",
    "https://velog.io/@max9106/Spring-Boot-Gmail-SMTP-%EC%82%AC%EC%9A%A9%ED%95%98%EA%B8%B0%EB%A9%94%EC%9D%BC%EB%B3%B4%EB%82%B4%EA%B8%B0)\n",
    "\n",
    "- 안내에 따라 비밀번호 생성한 후 password.txt file 로 저장"
   ]
  },
  {
   "cell_type": "markdown",
   "metadata": {},
   "source": [
    "### email 보내기 함수"
   ]
  },
  {
   "cell_type": "markdown",
   "metadata": {},
   "source": [
    "주기적으로 email log 를 check 하여 새로운 ip 에서 email 이 수신 되면 자동 email 발송"
   ]
  },
  {
   "cell_type": "markdown",
   "metadata": {},
   "source": [
    "5 초마다 log check"
   ]
  }
 ],
 "metadata": {
  "kernelspec": {
   "display_name": "Python 3",
   "language": "python",
   "name": "python3"
  },
  "language_info": {
   "codemirror_mode": {
    "name": "ipython",
    "version": 3
   },
   "file_extension": ".py",
   "mimetype": "text/x-python",
   "name": "python",
   "nbconvert_exporter": "python",
   "pygments_lexer": "ipython3",
   "version": "3.7.4"
  }
 },
 "nbformat": 4,
 "nbformat_minor": 2
}
