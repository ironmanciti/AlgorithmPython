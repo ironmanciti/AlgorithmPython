{
 "cells": [
  {
   "cell_type": "markdown",
   "id": "89c7446d",
   "metadata": {},
   "source": [
    "# 33. Tkinter\n",
    "\n",
    "- Tkinter는 Tcl/Tk에 대한 파이썬 Wrapper로서 Tcl/Tk를 파이썬에 사용할 수 있도록 한 Lightweight GUI 모듈  \n",
    "\n",
    "- Tcl은 Tool Command Language의 약자로서 일종의 프로그래밍 언어이며, Tk는 크로스 플랫폼에 사용되는 일종의 GUI 툴킷이다.   \n",
    "\n",
    "- Tkinter는 타 GUI 프레임워크나 툴킷에 비해 지원되는 위젯들이 부족하고 UI도 그렇게 예쁘지 않다는 단점이 있지만, Python 설치시 기본적으로 내장되어 있는 파이썬 표준 라이브러리이기 때문에 쉽고 간단한 GUI 프로그램을 만들 때 활용될 수 있다."
   ]
  },
  {
   "cell_type": "markdown",
   "id": "d79c3c01",
   "metadata": {},
   "source": [
    "## Basic Button"
   ]
  },
  {
   "cell_type": "code",
   "execution_count": null,
   "id": "8bd6c3a3",
   "metadata": {},
   "outputs": [],
   "source": [
    "from tkinter import *\n",
    "\n",
    "root = Tk()\n",
    "\n",
    "def myClick():\n",
    "    myLabel = Label(root, text=\"Look! I clicked a Button!\")\n",
    "    myLabel.pack()\n",
    "\n",
    "#creating a Label Widget\n",
    "# myLabel1 = Label(root, text=\"Hello World\")\n",
    "# myLabel2 = Label(root, text=\"My Name is John Elder\")\n",
    "\n",
    "myButton = Button(root, text=\"click me\", command=myClick)\n",
    "\n",
    "# myLabel1.grid(row=0, column=0)\n",
    "# myLabel2.grid(row=1, column=1)\n",
    "\n",
    "myButton.pack()\n",
    "\n",
    "root.mainloop()"
   ]
  },
  {
   "cell_type": "markdown",
   "id": "acb289cf",
   "metadata": {},
   "source": [
    "## data input"
   ]
  },
  {
   "cell_type": "code",
   "execution_count": 10,
   "id": "75b38117",
   "metadata": {},
   "outputs": [],
   "source": [
    "root = Tk()\n",
    "\n",
    "e = Entry(root, width=50, borderwidth=5)\n",
    "e.pack()\n",
    "e.insert(0, \"insert your name\")\n",
    "\n",
    "def buttonClick():\n",
    "    txtLabel = Label(root, text=\"Hello : \" + e.get())\n",
    "    txtLabel.pack()\n",
    "    \n",
    "btton = Button(root, text=\"click me\", command=buttonClick)\n",
    "btton.pack()\n",
    "\n",
    "root.mainloop()"
   ]
  },
  {
   "cell_type": "markdown",
   "id": "02a0237e",
   "metadata": {},
   "source": [
    "## Hello World"
   ]
  },
  {
   "cell_type": "code",
   "execution_count": 3,
   "id": "8c7e5de4",
   "metadata": {},
   "outputs": [],
   "source": [
    "import tkinter as tk\n",
    "\n",
    "class Application(tk.Frame):\n",
    "    def __init__(self, master=None):\n",
    "        super().__init__(master)\n",
    "        self.master = master\n",
    "        self.pack()\n",
    "        self.create_wideget()\n",
    "        \n",
    "    def create_wideget(self):\n",
    "        self.hi_there = tk.Button(self)\n",
    "        self.hi_there[\"text\"] = \"Hello World\\n(click me)\"\n",
    "        self.hi_there[\"command\"] = self.say_hi\n",
    "        self.hi_there.pack(side=\"top\")\n",
    "        \n",
    "        self.quit = tk.Button(self, text=\"QUIT\", fg=\"red\",\n",
    "                              command=self.master.destroy)\n",
    "        \n",
    "        self.quit.pack(side=\"bottom\")\n",
    "        \n",
    "    def say_hi(self):\n",
    "        print(\"hi there everyone\")\n",
    "        \n",
    "root = tk.Tk()\n",
    "app = Application(master=root)\n",
    "app.mainloop()"
   ]
  }
 ],
 "metadata": {
  "kernelspec": {
   "display_name": "Python 3 (ipykernel)",
   "language": "python",
   "name": "python3"
  },
  "language_info": {
   "codemirror_mode": {
    "name": "ipython",
    "version": 3
   },
   "file_extension": ".py",
   "mimetype": "text/x-python",
   "name": "python",
   "nbconvert_exporter": "python",
   "pygments_lexer": "ipython3",
   "version": "3.8.0"
  }
 },
 "nbformat": 4,
 "nbformat_minor": 5
}
